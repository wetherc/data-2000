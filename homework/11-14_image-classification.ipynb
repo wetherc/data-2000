{
  "cells": [
    {
      "cell_type": "code",
      "execution_count": 2,
      "id": "8f38c2b8-a8ce-4bfa-b06a-ee153e27efb8",
      "metadata": {
        "id": "8f38c2b8-a8ce-4bfa-b06a-ee153e27efb8"
      },
      "outputs": [],
      "source": [
        "import matplotlib.pyplot as plt\n",
        "import numpy as np\n",
        "import pandas as pd\n",
        "import tensorflow as tf\n",
        "\n",
        "from sklearn.metrics import accuracy_score, precision_score, recall_score\n",
        "from sklearn.model_selection import train_test_split\n",
        "from tensorflow.keras import layers, losses\n",
        "from tensorflow.keras.datasets import fashion_mnist\n",
        "from tensorflow.keras.models import Model"
      ]
    },
    {
      "cell_type": "markdown",
      "id": "e467af43-a413-499c-8bbe-bf05b517ecf3",
      "metadata": {
        "id": "e467af43-a413-499c-8bbe-bf05b517ecf3"
      },
      "source": [
        "# Image Classification: Fashion MNIST\n",
        "\n",
        "The Fashion MNIST dataset is a large freely available database of fashion images that is commonly used for training and testing various machine learning systems. Fashion-MNIST was intended to serve as a replacement for the original MNIST database for benchmarking machine learning algorithms, as it shares the same image size, data format and the structure of training and testing splits.\n",
        "\n",
        "The dataset contains 70,000 28x28 grayscale images of fashion products from 10 categories from a dataset of Zalando article images, with 7,000 images per category. The training set consists of 60,000 images and the test set consists of 10,000 images. The dataset is commonly included in standard machine learning libraries. (Source: [Wikipedia](https://en.wikipedia.org/wiki/Fashion_MNIST))\n",
        "\n",
        "The classes are:\n",
        "\n",
        "| Label | Description |\n",
        "|-----|-----|\n",
        "| 0 | T-shirt/top |\n",
        "| 1 | Trouser |\n",
        "| 2 | Pullover |\n",
        "| 3 | Dress |\n",
        "| 4 | Coat |\n",
        "| 5 | Sandal |\n",
        "| 6 | Shirt |\n",
        "| 7 | Sneaker |\n",
        "| 8 | Bag |\n",
        "| 9 | Ankle boot |\n",
        "\n",
        "## Objective\n",
        "\n",
        "The goal here is to simply build and fit the best convolutional neural network that you can to correctly classify these image instances. Describe your process and choices as you go, and include an evaluation of your model's performance."
      ]
    },
    {
      "cell_type": "code",
      "execution_count": 3,
      "id": "7b689035-fd8f-4f36-bb8f-0dea582673d3",
      "metadata": {
        "id": "7b689035-fd8f-4f36-bb8f-0dea582673d3",
        "outputId": "98ad877e-e2f4-4c4c-e5d1-66d4f4b392c8",
        "colab": {
          "base_uri": "https://localhost:8080/"
        }
      },
      "outputs": [
        {
          "output_type": "stream",
          "name": "stdout",
          "text": [
            "Downloading data from https://storage.googleapis.com/tensorflow/tf-keras-datasets/train-labels-idx1-ubyte.gz\n",
            "29515/29515 [==============================] - 0s 0us/step\n",
            "Downloading data from https://storage.googleapis.com/tensorflow/tf-keras-datasets/train-images-idx3-ubyte.gz\n",
            "26421880/26421880 [==============================] - 0s 0us/step\n",
            "Downloading data from https://storage.googleapis.com/tensorflow/tf-keras-datasets/t10k-labels-idx1-ubyte.gz\n",
            "5148/5148 [==============================] - 0s 0us/step\n",
            "Downloading data from https://storage.googleapis.com/tensorflow/tf-keras-datasets/t10k-images-idx3-ubyte.gz\n",
            "4422102/4422102 [==============================] - 0s 0us/step\n",
            "(60000, 28, 28)\n",
            "(10000, 28, 28)\n"
          ]
        }
      ],
      "source": [
        "(X_train, y_train), (X_test, y_test) = fashion_mnist.load_data()\n",
        "\n",
        "X_train = X_train.astype('float32') / 255.\n",
        "X_test = X_test.astype('float32') / 255.\n",
        "\n",
        "print(X_train.shape)\n",
        "print(X_test.shape)"
      ]
    },
    {
      "cell_type": "code",
      "execution_count": 4,
      "id": "5bec3198-1d9f-4aa2-a442-a9bf0365b781",
      "metadata": {
        "id": "5bec3198-1d9f-4aa2-a442-a9bf0365b781",
        "outputId": "23d130ae-a5d7-4a77-bebb-614601c6643a",
        "colab": {
          "base_uri": "https://localhost:8080/",
          "height": 145
        }
      },
      "outputs": [
        {
          "output_type": "display_data",
          "data": {
            "text/plain": [
              "<Figure size 2000x400 with 10 Axes>"
            ],
            "image/png": "[encoded data removed]"
          },
          "metadata": {}
        }
      ],
      "source": [
        "n = 10\n",
        "plt.figure(figsize=(20, 4))\n",
        "for i in range(n):\n",
        "    # display original\n",
        "    ax = plt.subplot(2, n, i + 1)\n",
        "    plt.imshow(X_train[i])\n",
        "    plt.title(f'{y_train[i]}')\n",
        "    plt.gray()\n",
        "    ax.get_xaxis().set_visible(False)\n",
        "    ax.get_yaxis().set_visible(False)\n",
        "\n",
        "plt.show()"
      ]
    },
    {
      "cell_type": "code",
      "source": [
        "img_input = tf.keras.layers.Input(shape = (28,28,1))"
      ],
      "metadata": {
        "id": "t4sLZWlMNuIv"
      },
      "id": "t4sLZWlMNuIv",
      "execution_count": 6,
      "outputs": []
    },
    {
      "cell_type": "code",
      "source": [
        "conv1 = layers.Conv2D(7,2,activation = 'relu')(img_input) #0 for negative, to infinity for positive\n",
        "pooling = layers.AveragePooling2D(2)(conv1) #takes avg value of pool, the\n",
        "#dimension is the shape of your data, what are you trying to model?\n",
        "#4 is the window length\n",
        "#stride=1 as the default\n",
        "dropout=tf.keras.layers.Dropout(0.4)(pooling)\n",
        "#40% of neurons will be set to 0(randomly)60% are active\n",
        "flatten=tf.keras.layers.Flatten()(dropout)\n",
        "\n",
        "dense=layers.Dense(100 ,activation ='relu')(flatten)\n",
        "\n",
        "output = layers.Dense(10, activation='softmax')(dense)"
      ],
      "metadata": {
        "id": "GMhRi5OiP25C"
      },
      "id": "GMhRi5OiP25C",
      "execution_count": 8,
      "outputs": []
    },
    {
      "cell_type": "code",
      "source": [
        "model = tf.keras.Model(img_input, output)"
      ],
      "metadata": {
        "id": "sSVXrH57Tzyn"
      },
      "id": "sSVXrH57Tzyn",
      "execution_count": 9,
      "outputs": []
    },
    {
      "cell_type": "code",
      "source": [
        "model.compile(\n",
        "    loss = 'categorical_crossentropy',\n",
        "    optimizer = tf.keras.optimizers.RMSprop(),\n",
        "    metrics = [tf.keras.metrics.CategoricalAccuracy()]\n",
        ")"
      ],
      "metadata": {
        "id": "zTtOfpdobg_4"
      },
      "id": "zTtOfpdobg_4",
      "execution_count": 10,
      "outputs": []
    },
    {
      "cell_type": "code",
      "source": [],
      "metadata": {
        "id": "jTmsbl3ucXzC"
      },
      "id": "jTmsbl3ucXzC",
      "execution_count": null,
      "outputs": []
    }
  ],
  "metadata": {
    "kernelspec": {
      "display_name": "Python 3 (ipykernel)",
      "language": "python",
      "name": "python3"
    },
    "language_info": {
      "codemirror_mode": {
        "name": "ipython",
        "version": 3
      },
      "file_extension": ".py",
      "mimetype": "text/x-python",
      "name": "python",
      "nbconvert_exporter": "python",
      "pygments_lexer": "ipython3",
      "version": "3.9.5"
    },
    "colab": {
      "provenance": []
    }
  },
  "nbformat": 4,
  "nbformat_minor": 5
}