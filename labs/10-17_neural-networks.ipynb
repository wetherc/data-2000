{
 "cells": [
  {
   "cell_type": "code",
   "execution_count": null,
   "id": "e4703bfd-eaff-46cf-a4b9-f3d85cd824aa",
   "metadata": {},
   "outputs": [],
   "source": [
    "!pip install --upgrade numpy pandas matplotlib seaborn tensorflow pydot"
   ]
  },
  {
   "cell_type": "code",
   "execution_count": null,
   "id": "176c5a8e-c998-460b-85a3-602513bbcec8",
   "metadata": {},
   "outputs": [],
   "source": [
    "import numpy as np\n",
    "import pandas as pd\n",
    "import tensorflow as tf\n",
    "from matplotlib import pyplot as plt\n",
    "import seaborn as sns\n",
    "\n",
    "# The following lines adjust the granularity of reporting.\n",
    "pd.options.display.max_rows = 10\n",
    "pd.options.display.float_format = \"{:.1f}\".format"
   ]
  },
  {
   "cell_type": "code",
   "execution_count": null,
   "id": "1d8ecf55-b1cc-4254-842a-b99747866769",
   "metadata": {},
   "outputs": [],
   "source": [
    "train_df = pd.read_csv(\"https://download.mlcc.google.com/mledu-datasets/california_housing_train.csv\")\n",
    "train_df = train_df.reindex(np.random.permutation(train_df.index))\n",
    "\n",
    "test_df = pd.read_csv(\"https://download.mlcc.google.com/mledu-datasets/california_housing_test.csv\")"
   ]
  },
  {
   "cell_type": "markdown",
   "id": "9ebfa3d8-9182-4277-9d4b-b3180ff6d9cd",
   "metadata": {},
   "source": [
    "## Represent data\n",
    "\n",
    "The following code cell creates preprocessing layers outputting three features:\n",
    "\n",
    "* `latitude` X `longitude` (a feature cross)\n",
    "* `median_income`\n",
    "* `population`\n",
    "\n",
    "This code cell specifies the features that you'll ultimately train the model on and how each of those features will be represented. The transformations (collected in `prepocessing_layers`) don't actually get applied until you pass a DataFrame to it, which will happen when we train the model.\n",
    "\n",
    "We'll use `preprocessing_layers` for both our linear regression model and our neural network model.\n",
    "\n",
    "(The [`keras.FeatureSpace`](https://keras.io/examples/structured_data/structured_data_classification_with_feature_space) utility offers an alternative to building individual Keras preprocessing layers -- give it a try, if you're feeling adventurous!)"
   ]
  },
  {
   "cell_type": "code",
   "execution_count": null,
   "id": "82e2c344-36a9-4c1c-8f6f-5aac24743825",
   "metadata": {},
   "outputs": [],
   "source": [
    "# Keras Input tensors of float values.\n",
    "inputs = {\n",
    "    'latitude':\n",
    "        tf.keras.layers.Input(\n",
    "            shape=(1,),\n",
    "            dtype=tf.float32,\n",
    "            name='latitude'),\n",
    "    'longitude':\n",
    "        tf.keras.layers.Input(\n",
    "            shape=(1,),\n",
    "            dtype=tf.float32,\n",
    "            name='longitude'),\n",
    "    'median_income':\n",
    "        tf.keras.layers.Input(\n",
    "            shape=(1,),\n",
    "            dtype=tf.float32,\n",
    "            name='median_income'),\n",
    "    'population':\n",
    "        tf.keras.layers.Input(\n",
    "            shape=(1,),\n",
    "            dtype=tf.float32,\n",
    "            name='population')\n",
    "}"
   ]
  },
  {
   "cell_type": "markdown",
   "id": "97502d08-b2bd-4572-b97b-cb544c587157",
   "metadata": {},
   "source": [
    "# Normalization Layers\n",
    "\n",
    "This layer will shift and scale inputs into a distribution centered around 0 with standard deviation 1. It accomplishes this by precomputing the mean and variance of the data, and calling `(input - mean) / sqrt(var)` at runtime.\n",
    "\n",
    "The mean and variance values for the layer must be either supplied on construction or learned via `adapt()`. `adapt()` will compute the mean and variance of the data and store them as the layer's weights. `adapt()` should be called before `fit()`, `evaluate()`, or `predict()`."
   ]
  },
  {
   "cell_type": "code",
   "execution_count": null,
   "id": "64e7a0c1-4540-4c72-8a91-9433bb19e2b1",
   "metadata": {},
   "outputs": [],
   "source": [
    "# Create a Normalization layer to normalize the median_income data.\n",
    "median_income = tf.keras.layers.Normalization(\n",
    "    name='normalization_median_income',\n",
    "    axis=None)\n",
    "median_income.adapt(train_df['median_income'])\n",
    "median_income = median_income(inputs.get('median_income'))\n",
    "\n",
    "# Create a Normalization layer to normalize the population data.\n",
    "population = tf.keras.layers.Normalization(\n",
    "    name='normalization_population',\n",
    "    axis=None)\n",
    "population.adapt(train_df['population'])\n",
    "population = population(inputs.get('population'))\n",
    "\n",
    "# Create a Normalization layer to normalize the latitude data.\n",
    "latitude = tf.keras.layers.Normalization(\n",
    "    name='normalization_latitude',\n",
    "    axis=None)\n",
    "latitude.adapt(train_df['latitude'])\n",
    "latitude = latitude(inputs.get('latitude'))\n",
    "\n",
    "# Create a Normalization layer to normalize the longitude data.\n",
    "longitude = tf.keras.layers.Normalization(\n",
    "    name='normalization_longitude',\n",
    "    axis=None)\n",
    "longitude.adapt(train_df['longitude'])\n",
    "longitude = longitude(inputs.get('longitude'))\n",
    "\n",
    "# Create Normalization layers to normalize the median_house_value data.\n",
    "# Because median_house_value is our label (i.e., the target value we're\n",
    "# predicting), these layers won't be added to our model.\n",
    "train_median_house_value_normalized = tf.keras.layers.Normalization(axis=None)\n",
    "train_median_house_value_normalized.adapt(\n",
    "    np.array(train_df['median_house_value']))\n",
    "\n",
    "test_median_house_value_normalized = tf.keras.layers.Normalization(axis=None)\n",
    "test_median_house_value_normalized.adapt(\n",
    "    np.array(test_df['median_house_value']))"
   ]
  },
  {
   "cell_type": "markdown",
   "id": "d280ba45-f02b-4448-b8a3-bb0fc17dcf72",
   "metadata": {},
   "source": [
    "# Bucketizing Values\n",
    "\n",
    "Create a list of numbers representing the bucket boundaries for latitude. Because we're using a Normalization layer, values for latitude and longitude\n",
    "will be in the range of approximately -3 to 3 (representing the Z score). We'll create 20 buckets, which requires 21 bucket boundaries (hence, 20+1).\n",
    "\n",
    "To do this, we'll use a `Discretization()` layer, which will place each element of its input data into one of several contiguous ranges and output an integer index indicating which range each element was placed in."
   ]
  },
  {
   "cell_type": "code",
   "execution_count": null,
   "id": "b660c2dc-edba-4d20-b4fe-76eeecdecc05",
   "metadata": {},
   "outputs": [],
   "source": [
    "latitude_boundaries = np.linspace(-3, 3, 20+1)\n",
    "longitude_boundaries = np.linspace(-3, 3, 20+1)\n",
    "\n",
    "# Create a Discretization layer to separate the latitude data into buckets.\n",
    "latitude = tf.keras.layers.Discretization(\n",
    "    bin_boundaries=latitude_boundaries,\n",
    "    name='discretization_latitude')(latitude)\n",
    "\n",
    "# Create a Discretization layer to separate the longitude data into buckets.\n",
    "longitude = tf.keras.layers.Discretization(\n",
    "    bin_boundaries=longitude_boundaries,\n",
    "    name='discretization_longitude')(longitude)"
   ]
  },
  {
   "cell_type": "markdown",
   "id": "d4c7cc7b-725a-4b5b-b9d4-520919c3823b",
   "metadata": {},
   "source": [
    "# Feature Crosses\n",
    "\n",
    "This layer performs crosses of categorical features using the \"hashing trick\". Conceptually, the transformation can be thought of as: `hash(concatenate(features)) % num_bins`."
   ]
  },
  {
   "cell_type": "code",
   "execution_count": null,
   "id": "1cdc70d6-3ebb-4530-9938-8988d3f9ca90",
   "metadata": {},
   "outputs": [],
   "source": [
    "# Cross the latitude and longitude features into a single one-hot vector.\n",
    "feature_cross = tf.keras.layers.HashedCrossing(\n",
    "    # num_bins can be adjusted: Higher values improve accuracy, lower values\n",
    "    # improve performance.\n",
    "    num_bins=len(latitude_boundaries) * len(longitude_boundaries),\n",
    "    output_mode='one_hot',\n",
    "    name='cross_latitude_longitude')([latitude, longitude])"
   ]
  },
  {
   "cell_type": "markdown",
   "id": "463ec7ff-c597-4d30-9e27-e45c04b7d3d1",
   "metadata": {},
   "source": [
    "# Concatenation\n",
    "\n",
    "Finally, we will combine all three of our inputs into a single tensor using a `Concatenate()` layer"
   ]
  },
  {
   "cell_type": "code",
   "execution_count": null,
   "id": "7c8d1603-a449-4b9e-9ff6-cf0a8b10221d",
   "metadata": {},
   "outputs": [],
   "source": [
    "# Concatenate our inputs into a single tensor.\n",
    "preprocessing_layers = tf.keras.layers.Concatenate()(\n",
    "    [feature_cross, median_income, population])\n",
    "\n",
    "dense_output = tf.keras.layers.Dense(\n",
    "    units=1,\n",
    "    name='dense_output')(preprocessing_layers)\n",
    "\n",
    "# Define an output dictionary we'll send to the model constructor.\n",
    "outputs = {\n",
    "'dense_output': dense_output\n",
    "}"
   ]
  },
  {
   "cell_type": "markdown",
   "id": "ab141791-0962-4e8d-9f1d-ae3c44cb181e",
   "metadata": {},
   "source": [
    "-----\n",
    "\n",
    "# Basline Linear Regression\n",
    "\n",
    "Let's first train a multiple linear regression on the preprocessing layers we just created. This will give us a good baseline model to compare our neural network against."
   ]
  },
  {
   "cell_type": "code",
   "execution_count": null,
   "id": "0dddb633-cba2-428f-ae0d-2d401fe6cd52",
   "metadata": {},
   "outputs": [],
   "source": [
    "learning_rate = 0.01\n",
    "epochs = 15\n",
    "batch_size = 1000\n",
    "label_name = \"median_house_value\"\n",
    "\n",
    "validation_split = 0.2"
   ]
  },
  {
   "cell_type": "code",
   "execution_count": null,
   "id": "0053eb14-6789-428e-b1f4-19895b82f23e",
   "metadata": {},
   "outputs": [],
   "source": [
    "lin_model = tf.keras.Model(inputs=inputs, outputs=outputs)\n",
    "lin_model.compile(\n",
    "    optimizer=tf.keras.optimizers.Adam(learning_rate=learning_rate),\n",
    "    loss=\"mean_squared_error\",\n",
    "    metrics=[tf.keras.metrics.MeanSquaredError()]\n",
    ")\n",
    "lin_model.summary()"
   ]
  },
  {
   "cell_type": "code",
   "execution_count": null,
   "id": "4a2e7f35-20cf-43b2-8c62-53aed3ab9a0f",
   "metadata": {},
   "outputs": [],
   "source": [
    "# Split the dataset into features and label.\n",
    "features = {name:np.array(value) for name, value in train_df.items()}\n",
    "label = train_median_house_value_normalized(\n",
    "    np.array(features.pop(label_name))\n",
    ")"
   ]
  },
  {
   "cell_type": "code",
   "execution_count": null,
   "id": "1523ebf8-5348-4d23-8a03-2bbe99c54645",
   "metadata": {
    "tags": []
   },
   "outputs": [],
   "source": [
    "history = lin_model.fit(\n",
    "    x=features,\n",
    "    y=label,\n",
    "    batch_size=batch_size,\n",
    "    epochs=epochs,\n",
    "    shuffle=True,\n",
    "    validation_split=validation_split)\n",
    "\n",
    "# Get details that will be useful for plotting the loss curve.\n",
    "epochs = history.epoch\n",
    "hist = pd.DataFrame(history.history)\n",
    "mse = hist[\"mean_squared_error\"]"
   ]
  },
  {
   "cell_type": "code",
   "execution_count": null,
   "id": "740ecd1a-81cf-4658-b212-ef7ab661921b",
   "metadata": {},
   "outputs": [],
   "source": [
    "plt.figure()\n",
    "plt.xlabel(\"Epoch\")\n",
    "plt.ylabel(\"Mean Squared Error\")\n",
    "\n",
    "plt.plot(epochs, mse, label=\"Training Loss\")\n",
    "plt.plot(epochs, history.history[\"val_mean_squared_error\"], label=\"Validation Loss\")\n",
    "\n",
    "# mse_training is a pandas Series, so convert it to a list first.\n",
    "merged_mse_lists = mse.tolist() + history.history[\"val_mean_squared_error\"]\n",
    "highest_loss = max(merged_mse_lists)\n",
    "lowest_loss = min(merged_mse_lists)\n",
    "top_of_y_axis = highest_loss * 1.03\n",
    "bottom_of_y_axis = lowest_loss * 0.97\n",
    "\n",
    "plt.ylim([bottom_of_y_axis, top_of_y_axis])\n",
    "plt.legend()\n",
    "plt.show()"
   ]
  },
  {
   "cell_type": "markdown",
   "id": "819d3b15-b6a3-458b-8f91-1d17344ed1e7",
   "metadata": {},
   "source": [
    "-----\n",
    "\n",
    "# Train a Neural Network"
   ]
  },
  {
   "cell_type": "code",
   "execution_count": null,
   "id": "ffdf9b52-3bc2-4042-9188-0987f00d54e5",
   "metadata": {},
   "outputs": [],
   "source": [
    "dense_output = tf.keras.layers.Dense(\n",
    "    units=20,\n",
    "    activation='relu',\n",
    "    name='hidden_dense_layer_1')(preprocessing_layers)\n",
    "\n",
    "# Create a Dense layer with 12 nodes.\n",
    "dense_output = tf.keras.layers.Dense(\n",
    "    units=12,\n",
    "    activation='relu',\n",
    "    name='hidden_dense_layer_2')(dense_output)\n",
    "\n",
    "# Create the Dense output layer.\n",
    "dense_output = tf.keras.layers.Dense(\n",
    "    units=1,\n",
    "    name='dense_output')(dense_output)\n",
    "\n",
    "# Define an output dictionary we'll send to the model constructor.\n",
    "outputs = {\n",
    "'dense_output': dense_output\n",
    "}"
   ]
  },
  {
   "cell_type": "code",
   "execution_count": null,
   "id": "ba58288a-23b7-46e5-a162-d2330f9488aa",
   "metadata": {},
   "outputs": [],
   "source": [
    "dnn_model = tf.keras.Model(inputs=inputs, outputs=outputs)\n",
    "dnn_model.compile(\n",
    "    optimizer=tf.keras.optimizers.Adam(learning_rate=learning_rate),\n",
    "    loss=\"mean_squared_error\",\n",
    "    metrics=[tf.keras.metrics.MeanSquaredError()]\n",
    ")"
   ]
  },
  {
   "cell_type": "code",
   "execution_count": null,
   "id": "7d9893fc-fe1e-4b85-abf9-ca7b60be71d0",
   "metadata": {},
   "outputs": [],
   "source": [
    "tf.keras.utils.plot_model(dnn_model)"
   ]
  },
  {
   "cell_type": "code",
   "execution_count": null,
   "id": "94911b02-bbdc-4d85-b931-182dac6628b9",
   "metadata": {},
   "outputs": [],
   "source": [
    "learning_rate = 0.01\n",
    "epochs = 15\n",
    "batch_size = 1000\n",
    "label_name = \"median_house_value\"\n",
    "\n",
    "validation_split = 0.2"
   ]
  },
  {
   "cell_type": "code",
   "execution_count": null,
   "id": "0bf58316-811b-40e5-a195-c2a346dcfc92",
   "metadata": {},
   "outputs": [],
   "source": [
    "history = dnn_model.fit(\n",
    "    x=features,\n",
    "    y=label,\n",
    "    batch_size=batch_size,\n",
    "    epochs=epochs,\n",
    "    shuffle=True,\n",
    "    validation_split=validation_split)\n",
    "\n",
    "# Get details that will be useful for plotting the loss curve.\n",
    "epochs = history.epoch\n",
    "hist = pd.DataFrame(history.history)\n",
    "mse = hist[\"mean_squared_error\"]"
   ]
  },
  {
   "cell_type": "code",
   "execution_count": null,
   "id": "9c142bed-94b9-4a21-b9d0-f8fae89cd36a",
   "metadata": {},
   "outputs": [],
   "source": [
    "plt.figure()\n",
    "plt.xlabel(\"Epoch\")\n",
    "plt.ylabel(\"Mean Squared Error\")\n",
    "\n",
    "plt.plot(epochs, mse, label=\"Training Loss\")\n",
    "plt.plot(epochs, history.history[\"val_mean_squared_error\"], label=\"Validation Loss\")\n",
    "\n",
    "# mse_training is a pandas Series, so convert it to a list first.\n",
    "merged_mse_lists = mse.tolist() + history.history[\"val_mean_squared_error\"]\n",
    "highest_loss = max(merged_mse_lists)\n",
    "lowest_loss = min(merged_mse_lists)\n",
    "top_of_y_axis = highest_loss * 1.03\n",
    "bottom_of_y_axis = lowest_loss * 0.97\n",
    "\n",
    "plt.ylim([bottom_of_y_axis, top_of_y_axis])\n",
    "plt.legend()\n",
    "plt.show()"
   ]
  },
  {
   "cell_type": "code",
   "execution_count": null,
   "id": "60525f66-9826-4c08-a721-f1a4f79dafbf",
   "metadata": {},
   "outputs": [],
   "source": [
    "# After building a model against the training set, test that model\n",
    "# against the test set.\n",
    "test_features = {name:np.array(value) for name, value in test_df.items()}\n",
    "test_label = test_median_house_value_normalized(np.array(test_features.pop(label_name)))\n",
    "\n",
    "print(\"\\n Evaluate the new model against the test set:\")\n",
    "dnn_model.evaluate(\n",
    "    x=test_features,\n",
    "    y=test_label,\n",
    "    batch_size=batch_size,\n",
    "    return_dict=True)"
   ]
  },
  {
   "cell_type": "markdown",
   "id": "64e61163-480f-4f5f-a910-e4a170df43a9",
   "metadata": {},
   "source": [
    "# Lab Exercise\n",
    "\n",
    "Craigslist is the world's largest collection of used vehicles for sale. GitHub user [@AustinReese](https://github.com/AustinReese/UsedVehicleSearch) scraped Craigslist used car ads to create a dataset of 4.25 million listings. We will be using a subset of around 2 million of these listings.\n",
    "\n",
    "For this lab:\n",
    "\n",
    "  1. Clean and preprocess your data:\n",
    "      - Create a training dataset that includes `price`, `ageOfCar` (in years), `manufacturer` (dummy-encoded), `condition` (dummy-encoded), `odometer`, and `isCarvana` (0 or 1)\n",
    "      - Be sure to remove any outliers from your dataset as you go\n",
    "  2. Define a feed-forward neural network\n",
    "      - It should take `ageOfCar`, `manufacturer`, `condition`, `odometer`, and `isCarvana` as inputs\n",
    "      - It should have 2 hidden layers\n",
    "          - How many neurons do you think each layer should include? Why?\n",
    "          - What activation function(s) do you want to use in each layer?\n",
    "      - It should use MSE as its loss function\n",
    "      - The final output layer should be a single neuron, and should use either a ReLU or linear activation function\n",
    "  3. Train your model and evaluate its performance between the training and validation samples\n",
    "  4. Evaluate your model against the holdout testing dataset"
   ]
  },
  {
   "cell_type": "code",
   "execution_count": 2,
   "id": "c20e7836-cafe-4556-8bb5-54d36929b82d",
   "metadata": {},
   "outputs": [
    {
     "data": {
      "text/html": [
       "<div>\n",
       "<style scoped>\n",
       "    .dataframe tbody tr th:only-of-type {\n",
       "        vertical-align: middle;\n",
       "    }\n",
       "\n",
       "    .dataframe tbody tr th {\n",
       "        vertical-align: top;\n",
       "    }\n",
       "\n",
       "    .dataframe thead th {\n",
       "        text-align: right;\n",
       "    }\n",
       "</style>\n",
       "<table border=\"1\" class=\"dataframe\">\n",
       "  <thead>\n",
       "    <tr style=\"text-align: right;\">\n",
       "      <th></th>\n",
       "      <th>region</th>\n",
       "      <th>price</th>\n",
       "      <th>year</th>\n",
       "      <th>manufacturer</th>\n",
       "      <th>model</th>\n",
       "      <th>condition</th>\n",
       "      <th>cylinders</th>\n",
       "      <th>fuel</th>\n",
       "      <th>odometer</th>\n",
       "      <th>title_status</th>\n",
       "      <th>transmission</th>\n",
       "      <th>drive</th>\n",
       "      <th>size</th>\n",
       "      <th>type</th>\n",
       "      <th>paint_color</th>\n",
       "      <th>description</th>\n",
       "      <th>state</th>\n",
       "      <th>lat</th>\n",
       "      <th>long</th>\n",
       "      <th>posting_date</th>\n",
       "    </tr>\n",
       "  </thead>\n",
       "  <tbody>\n",
       "    <tr>\n",
       "      <th>0</th>\n",
       "      <td>auburn</td>\n",
       "      <td>15000</td>\n",
       "      <td>2013.0</td>\n",
       "      <td>ford</td>\n",
       "      <td>f-150 xlt</td>\n",
       "      <td>excellent</td>\n",
       "      <td>6 cylinders</td>\n",
       "      <td>gas</td>\n",
       "      <td>128000.0</td>\n",
       "      <td>clean</td>\n",
       "      <td>automatic</td>\n",
       "      <td>rwd</td>\n",
       "      <td>full-size</td>\n",
       "      <td>truck</td>\n",
       "      <td>black</td>\n",
       "      <td>2013 F-150 XLT V6 4 Door. Good condition. Leve...</td>\n",
       "      <td>al</td>\n",
       "      <td>32.6</td>\n",
       "      <td>-85.5</td>\n",
       "      <td>2021-05-03T14:02:03-0500</td>\n",
       "    </tr>\n",
       "    <tr>\n",
       "      <th>1</th>\n",
       "      <td>auburn</td>\n",
       "      <td>27990</td>\n",
       "      <td>2012.0</td>\n",
       "      <td>gmc</td>\n",
       "      <td>sierra 2500 hd extended cab</td>\n",
       "      <td>good</td>\n",
       "      <td>8 cylinders</td>\n",
       "      <td>gas</td>\n",
       "      <td>68696.0</td>\n",
       "      <td>clean</td>\n",
       "      <td>other</td>\n",
       "      <td>4wd</td>\n",
       "      <td>NaN</td>\n",
       "      <td>pickup</td>\n",
       "      <td>black</td>\n",
       "      <td>Carvana is the safer way to buy a car During t...</td>\n",
       "      <td>al</td>\n",
       "      <td>32.6</td>\n",
       "      <td>-85.5</td>\n",
       "      <td>2021-05-03T13:41:25-0500</td>\n",
       "    </tr>\n",
       "    <tr>\n",
       "      <th>2</th>\n",
       "      <td>auburn</td>\n",
       "      <td>34590</td>\n",
       "      <td>2016.0</td>\n",
       "      <td>chevrolet</td>\n",
       "      <td>silverado 1500 double</td>\n",
       "      <td>good</td>\n",
       "      <td>6 cylinders</td>\n",
       "      <td>gas</td>\n",
       "      <td>29499.0</td>\n",
       "      <td>clean</td>\n",
       "      <td>other</td>\n",
       "      <td>4wd</td>\n",
       "      <td>NaN</td>\n",
       "      <td>pickup</td>\n",
       "      <td>silver</td>\n",
       "      <td>Carvana is the safer way to buy a car During t...</td>\n",
       "      <td>al</td>\n",
       "      <td>32.6</td>\n",
       "      <td>-85.5</td>\n",
       "      <td>2021-05-03T12:41:33-0500</td>\n",
       "    </tr>\n",
       "    <tr>\n",
       "      <th>3</th>\n",
       "      <td>auburn</td>\n",
       "      <td>35000</td>\n",
       "      <td>2019.0</td>\n",
       "      <td>toyota</td>\n",
       "      <td>tacoma</td>\n",
       "      <td>excellent</td>\n",
       "      <td>6 cylinders</td>\n",
       "      <td>gas</td>\n",
       "      <td>43000.0</td>\n",
       "      <td>clean</td>\n",
       "      <td>automatic</td>\n",
       "      <td>4wd</td>\n",
       "      <td>NaN</td>\n",
       "      <td>truck</td>\n",
       "      <td>grey</td>\n",
       "      <td>Selling my 2019 Toyota Tacoma TRD Off Road Dou...</td>\n",
       "      <td>al</td>\n",
       "      <td>32.6</td>\n",
       "      <td>-85.4</td>\n",
       "      <td>2021-05-03T12:12:59-0500</td>\n",
       "    </tr>\n",
       "    <tr>\n",
       "      <th>4</th>\n",
       "      <td>auburn</td>\n",
       "      <td>29990</td>\n",
       "      <td>2016.0</td>\n",
       "      <td>chevrolet</td>\n",
       "      <td>colorado extended cab</td>\n",
       "      <td>good</td>\n",
       "      <td>6 cylinders</td>\n",
       "      <td>gas</td>\n",
       "      <td>17302.0</td>\n",
       "      <td>clean</td>\n",
       "      <td>other</td>\n",
       "      <td>4wd</td>\n",
       "      <td>NaN</td>\n",
       "      <td>pickup</td>\n",
       "      <td>red</td>\n",
       "      <td>Carvana is the safer way to buy a car During t...</td>\n",
       "      <td>al</td>\n",
       "      <td>32.6</td>\n",
       "      <td>-85.5</td>\n",
       "      <td>2021-05-03T11:31:14-0500</td>\n",
       "    </tr>\n",
       "  </tbody>\n",
       "</table>\n",
       "</div>"
      ],
      "text/plain": [
       "   region  price   year manufacturer                        model  condition  \\\n",
       "0  auburn  15000 2013.0         ford                    f-150 xlt  excellent   \n",
       "1  auburn  27990 2012.0          gmc  sierra 2500 hd extended cab       good   \n",
       "2  auburn  34590 2016.0    chevrolet        silverado 1500 double       good   \n",
       "3  auburn  35000 2019.0       toyota                       tacoma  excellent   \n",
       "4  auburn  29990 2016.0    chevrolet        colorado extended cab       good   \n",
       "\n",
       "     cylinders fuel  odometer title_status transmission drive       size  \\\n",
       "0  6 cylinders  gas  128000.0        clean    automatic   rwd  full-size   \n",
       "1  8 cylinders  gas   68696.0        clean        other   4wd        NaN   \n",
       "2  6 cylinders  gas   29499.0        clean        other   4wd        NaN   \n",
       "3  6 cylinders  gas   43000.0        clean    automatic   4wd        NaN   \n",
       "4  6 cylinders  gas   17302.0        clean        other   4wd        NaN   \n",
       "\n",
       "     type paint_color                                        description  \\\n",
       "0   truck       black  2013 F-150 XLT V6 4 Door. Good condition. Leve...   \n",
       "1  pickup       black  Carvana is the safer way to buy a car During t...   \n",
       "2  pickup      silver  Carvana is the safer way to buy a car During t...   \n",
       "3   truck        grey  Selling my 2019 Toyota Tacoma TRD Off Road Dou...   \n",
       "4  pickup         red  Carvana is the safer way to buy a car During t...   \n",
       "\n",
       "  state  lat  long              posting_date  \n",
       "0    al 32.6 -85.5  2021-05-03T14:02:03-0500  \n",
       "1    al 32.6 -85.5  2021-05-03T13:41:25-0500  \n",
       "2    al 32.6 -85.5  2021-05-03T12:41:33-0500  \n",
       "3    al 32.6 -85.4  2021-05-03T12:12:59-0500  \n",
       "4    al 32.6 -85.5  2021-05-03T11:31:14-0500  "
      ]
     },
     "execution_count": 2,
     "metadata": {},
     "output_type": "execute_result"
    }
   ],
   "source": [
    "data = pd.read_csv(\"https://cdn.c18l.org/vehicles_lab.csv\")\n",
    "data.head()"
   ]
  },
  {
   "cell_type": "markdown",
   "id": "68d73793-e3c6-4042-afb2-871344ad8663",
   "metadata": {},
   "source": [
    "First, let's remove the extraneous columns from our dataset to make things a little more manageable:"
   ]
  },
  {
   "cell_type": "code",
   "execution_count": 3,
   "id": "82173417-dfe1-4246-82b9-6466dd306b4e",
   "metadata": {},
   "outputs": [
    {
     "data": {
      "text/plain": [
       "Index(['price', 'year', 'posting_date', 'manufacturer', 'condition',\n",
       "       'description', 'odometer'],\n",
       "      dtype='object')"
      ]
     },
     "execution_count": 3,
     "metadata": {},
     "output_type": "execute_result"
    }
   ],
   "source": [
    "data = data[[\n",
    "    'price', 'year', 'posting_date',\n",
    "    'manufacturer', 'condition', 'description',\n",
    "    'odometer'\n",
    "]]\n",
    "data.columns"
   ]
  },
  {
   "cell_type": "markdown",
   "id": "d4ef1339-fbec-4eb6-9dd2-d1a029423144",
   "metadata": {},
   "source": [
    "Next up, we can start doing some basic data cleaning. Here, I will create a new `is_carvana` column that evaluates to `True` if the word 'Carvana' appears in the listing discription, and `False` otherwise.\n",
    "\n",
    "We will also drop any rows that have obviously wonky data for the `price`, `year`, and `odometer` columns."
   ]
  },
  {
   "cell_type": "code",
   "execution_count": 4,
   "id": "77013f65-e764-49af-a7a3-acf16cb07c55",
   "metadata": {},
   "outputs": [],
   "source": [
    "data['is_carvana'] = data['description'].str.contains('Carvana').astype(int)\n",
    "data = data.drop(['description'], axis=1)\n",
    "\n",
    "data = data[data['price'] <= 50000]\n",
    "data = data[data['year'] >= 2000]\n",
    "data = data[data['odometer'] <= 200000]"
   ]
  },
  {
   "cell_type": "markdown",
   "id": "b534a085-1283-443f-ade6-6181dbc17f3d",
   "metadata": {},
   "source": [
    "Now we'll want to dummy-encode our string columns (that is, we'll convert them to ordinal numeric values). To do this, I'll create a new dictionary for both the manufacturers and the vehicle conditions that will have key:value pairs like `manufacturer: index`. E.g.,\n",
    "```\n",
    "{\n",
    "    'ford': 0,\n",
    "    'chevrolet': 1,\n",
    "    ...\n",
    "    'volvo': 40\n",
    "}\n",
    "```"
   ]
  },
  {
   "cell_type": "code",
   "execution_count": 5,
   "id": "e46ec34a-d004-4ff2-9cf9-0be0d0d0519b",
   "metadata": {},
   "outputs": [],
   "source": [
    "manufacturers = {val: idx for idx, val in enumerate(data['manufacturer'].unique())}\n",
    "conditions = {val: idx for idx, val in enumerate(data['condition'].unique())}\n",
    "\n",
    "data['manufacturer'] = data['manufacturer'].replace(manufacturers)\n",
    "data['condition'] = data['condition'].replace(conditions)"
   ]
  },
  {
   "cell_type": "markdown",
   "id": "bf1d08d5-e509-4234-be77-768cc6ca56f6",
   "metadata": {},
   "source": [
    "Finally, I'll calculate the car's age by taking the difference of the year the Craigslist posting was made and the vehicle's year of manufacture.\n",
    "\n",
    "Notably, here I'm using a regular expression to extract the year from the posting date (since it's being represented in the dataframe as a string). The regex I'm using, `^([0-9]{4})`, breaks down like this:\n",
    "\n",
    "  - `^`: This means that whatever pattern we want to match needs to begin at the very start of the line, it can't begin partway through the string\n",
    "  - `()`: Parentheses are called **capture groups** when used in regular expressions. They signify that whatever pattern we match we want to extract from the original string and keep\n",
    "  - `[]`: Square brackets are used to define character sets. This means that we can match on **any** character inside of them\n",
    "  - `0-9`: Since this is inside our square brackets, it means that we want to match any single digit from 0 through 9 inclusive\n",
    "  - `{4}`: This means that we want to match the preceding character set exactly 4 times\n",
    "  \n",
    "So, when we put it all together, we're telling our program, \"I want to match exactly 4 digits that start at the very beginning of the line\". In other words, the year part of a datetime string like `2021-05-03T14:02:03-0500`\n",
    "\n",
    "While we're at it, we can also remove any cars with a negative vehicle age since cars are weird and, e.g., the 2022 model of a car will actually release in 2021. I don't get it, maybe a car person can explain it to me some day"
   ]
  },
  {
   "cell_type": "code",
   "execution_count": 6,
   "id": "f8a17e2d-2408-4a56-9c18-94ddda65cb42",
   "metadata": {},
   "outputs": [],
   "source": [
    "data['posting_year'] = data['posting_date'].str.extract(r'^([0-9]{4})').astype(int)\n",
    "\n",
    "data['car_age'] = data['posting_year'] - data['year']\n",
    "data = data[data['car_age'] >= 0]\n",
    "\n",
    "data = data.drop(['year', 'posting_year', 'posting_date'], axis=1)"
   ]
  },
  {
   "cell_type": "code",
   "execution_count": 7,
   "id": "10b7f8bf-8670-494a-8b06-228b92c5efad",
   "metadata": {},
   "outputs": [
    {
     "data": {
      "text/html": [
       "<div>\n",
       "<style scoped>\n",
       "    .dataframe tbody tr th:only-of-type {\n",
       "        vertical-align: middle;\n",
       "    }\n",
       "\n",
       "    .dataframe tbody tr th {\n",
       "        vertical-align: top;\n",
       "    }\n",
       "\n",
       "    .dataframe thead th {\n",
       "        text-align: right;\n",
       "    }\n",
       "</style>\n",
       "<table border=\"1\" class=\"dataframe\">\n",
       "  <thead>\n",
       "    <tr style=\"text-align: right;\">\n",
       "      <th></th>\n",
       "      <th>price</th>\n",
       "      <th>manufacturer</th>\n",
       "      <th>condition</th>\n",
       "      <th>odometer</th>\n",
       "      <th>is_carvana</th>\n",
       "      <th>car_age</th>\n",
       "    </tr>\n",
       "  </thead>\n",
       "  <tbody>\n",
       "    <tr>\n",
       "      <th>0</th>\n",
       "      <td>15000</td>\n",
       "      <td>0</td>\n",
       "      <td>0</td>\n",
       "      <td>128000.0</td>\n",
       "      <td>0</td>\n",
       "      <td>8.0</td>\n",
       "    </tr>\n",
       "    <tr>\n",
       "      <th>1</th>\n",
       "      <td>27990</td>\n",
       "      <td>1</td>\n",
       "      <td>1</td>\n",
       "      <td>68696.0</td>\n",
       "      <td>1</td>\n",
       "      <td>9.0</td>\n",
       "    </tr>\n",
       "    <tr>\n",
       "      <th>2</th>\n",
       "      <td>34590</td>\n",
       "      <td>2</td>\n",
       "      <td>1</td>\n",
       "      <td>29499.0</td>\n",
       "      <td>1</td>\n",
       "      <td>5.0</td>\n",
       "    </tr>\n",
       "    <tr>\n",
       "      <th>3</th>\n",
       "      <td>35000</td>\n",
       "      <td>3</td>\n",
       "      <td>0</td>\n",
       "      <td>43000.0</td>\n",
       "      <td>0</td>\n",
       "      <td>2.0</td>\n",
       "    </tr>\n",
       "    <tr>\n",
       "      <th>4</th>\n",
       "      <td>29990</td>\n",
       "      <td>2</td>\n",
       "      <td>1</td>\n",
       "      <td>17302.0</td>\n",
       "      <td>1</td>\n",
       "      <td>5.0</td>\n",
       "    </tr>\n",
       "  </tbody>\n",
       "</table>\n",
       "</div>"
      ],
      "text/plain": [
       "   price  manufacturer  condition  odometer  is_carvana  car_age\n",
       "0  15000             0          0  128000.0           0      8.0\n",
       "1  27990             1          1   68696.0           1      9.0\n",
       "2  34590             2          1   29499.0           1      5.0\n",
       "3  35000             3          0   43000.0           0      2.0\n",
       "4  29990             2          1   17302.0           1      5.0"
      ]
     },
     "execution_count": 7,
     "metadata": {},
     "output_type": "execute_result"
    }
   ],
   "source": [
    "data.head()"
   ]
  },
  {
   "cell_type": "markdown",
   "id": "002d3ef6-43c4-4619-81e2-6f9965d6da31",
   "metadata": {},
   "source": [
    "Now, we can go ahead and create our training and testing datasets:"
   ]
  },
  {
   "cell_type": "code",
   "execution_count": 8,
   "id": "5e80d738-f859-4e13-804f-d799e1cadaca",
   "metadata": {},
   "outputs": [],
   "source": [
    "from sklearn.model_selection import train_test_split\n",
    "\n",
    "target = data.pop('price')\n",
    "X_train, X_test, y_train, y_test = train_test_split(\n",
    "    data,\n",
    "    target,\n",
    "    test_size=0.2,\n",
    "    random_state=42)"
   ]
  },
  {
   "cell_type": "markdown",
   "id": "de308332-0070-44ca-ae59-a01548a733ca",
   "metadata": {},
   "source": [
    "As we did earlier in the notebook, we'll create Input tensors for each of our x variables:"
   ]
  },
  {
   "cell_type": "code",
   "execution_count": 9,
   "id": "96f30316-22fc-4d21-accc-5382a47346c7",
   "metadata": {},
   "outputs": [],
   "source": [
    "# Keras Input tensors of float values.\n",
    "inputs = {\n",
    "    'manufacturer':\n",
    "        tf.keras.layers.Input(\n",
    "            shape=(1,),\n",
    "            dtype=tf.float32,\n",
    "            name='manufacturer'),\n",
    "    'condition':\n",
    "        tf.keras.layers.Input(\n",
    "            shape=(1,),\n",
    "            dtype=tf.float32,\n",
    "            name='condition'),\n",
    "    'odometer':\n",
    "        tf.keras.layers.Input(\n",
    "            shape=(1,),\n",
    "            dtype=tf.float32,\n",
    "            name='odometer'),\n",
    "    'is_carvana':\n",
    "        tf.keras.layers.Input(\n",
    "            shape=(1,),\n",
    "            dtype=tf.float32,\n",
    "            name='is_carvana'),\n",
    "    'car_age':\n",
    "        tf.keras.layers.Input(\n",
    "            shape=(1,),\n",
    "            dtype=tf.float32,\n",
    "            name='car_age')\n",
    "}"
   ]
  },
  {
   "cell_type": "markdown",
   "id": "4dddf420-94d1-4985-ac09-743bb021600a",
   "metadata": {},
   "source": [
    "We will also normalize them and concatenate them together before sending them into the hidden layers:"
   ]
  },
  {
   "cell_type": "code",
   "execution_count": 10,
   "id": "1c712faf-e095-4b7c-a756-31e062cf0b59",
   "metadata": {},
   "outputs": [],
   "source": [
    "manufacturer = tf.keras.layers.Normalization(\n",
    "    name='normalization_manufacturer',\n",
    "    axis=None)\n",
    "manufacturer.adapt(X_train['manufacturer'])\n",
    "manufacturer = manufacturer(inputs.get('manufacturer'))\n",
    "\n",
    "condition = tf.keras.layers.Normalization(\n",
    "    name='normalization_condition',\n",
    "    axis=None)\n",
    "condition.adapt(X_train['condition'])\n",
    "condition = condition(inputs.get('condition'))\n",
    "\n",
    "odometer = tf.keras.layers.Normalization(\n",
    "    name='normalization_odometer',\n",
    "    axis=None)\n",
    "odometer.adapt(X_train['odometer'])\n",
    "odometer = odometer(inputs.get('odometer'))\n",
    "\n",
    "is_carvana = tf.keras.layers.Normalization(\n",
    "    name='normalization_is_carvana',\n",
    "    axis=None)\n",
    "is_carvana.adapt(X_train['is_carvana'])\n",
    "is_carvana = is_carvana(inputs.get('is_carvana'))\n",
    "\n",
    "car_age = tf.keras.layers.Normalization(\n",
    "    name='normalization_car_age',\n",
    "    axis=None)\n",
    "car_age.adapt(X_train['car_age'])\n",
    "car_age = car_age(inputs.get('car_age'))"
   ]
  },
  {
   "cell_type": "code",
   "execution_count": 11,
   "id": "226c6864-63d5-41ec-bbd8-5857d452053c",
   "metadata": {},
   "outputs": [],
   "source": [
    "preprocessing_layers = tf.keras.layers.Concatenate()([\n",
    "    manufacturer,\n",
    "    condition,\n",
    "    odometer,\n",
    "    is_carvana,\n",
    "    car_age\n",
    "])"
   ]
  },
  {
   "cell_type": "markdown",
   "id": "fec64b74-4f60-48a8-aaa9-5378349de3a2",
   "metadata": {},
   "source": [
    "This model will use 2 hidden layers (75 units and 20 units wide, respectively) each using the Rectified Linear Unit as their activation function. These will terminate into a single output neuron with a ReLU activation function:"
   ]
  },
  {
   "cell_type": "code",
   "execution_count": 12,
   "id": "3b1c5816-df9b-4da0-90af-d76de8f43e70",
   "metadata": {},
   "outputs": [],
   "source": [
    "dense_output = tf.keras.layers.Dense(\n",
    "    units=75,\n",
    "    activation='relu',\n",
    "    name='hidden_dense_layer_1')(preprocessing_layers)\n",
    "\n",
    "# Create a Dense layer with 12 nodes.\n",
    "dense_output = tf.keras.layers.Dense(\n",
    "    units=20,\n",
    "    activation='relu',\n",
    "    name='hidden_dense_layer_2')(dense_output)\n",
    "\n",
    "# Create the Dense output layer.\n",
    "dense_output = tf.keras.layers.Dense(\n",
    "    units=1,\n",
    "    activation='relu',\n",
    "    name='dense_output')(dense_output)"
   ]
  },
  {
   "cell_type": "code",
   "execution_count": 13,
   "id": "a938bc8c-7246-4009-b2b8-084fa6f5333d",
   "metadata": {},
   "outputs": [],
   "source": [
    "dnn_model = tf.keras.Model(inputs=inputs, outputs=dense_output)\n",
    "dnn_model.compile(\n",
    "    optimizer=tf.keras.optimizers.Adam(learning_rate=0.01),\n",
    "    loss=\"mean_squared_error\",\n",
    "    metrics=[tf.keras.metrics.MeanSquaredError()]\n",
    ")"
   ]
  },
  {
   "cell_type": "code",
   "execution_count": 14,
   "id": "a6e22e17-a1d3-4526-aff3-9d26fe7e4ae8",
   "metadata": {},
   "outputs": [
    {
     "data": {
      "image/png": "[encoded data removed]",
      "text/plain": [
       "<IPython.core.display.Image object>"
      ]
     },
     "execution_count": 14,
     "metadata": {},
     "output_type": "execute_result"
    }
   ],
   "source": [
    "tf.keras.utils.plot_model(dnn_model)"
   ]
  },
  {
   "cell_type": "markdown",
   "id": "c27c1f3b-b7a4-4cb2-b7e6-19795ae40767",
   "metadata": {},
   "source": [
    "Finally, let's train our model using an 80:20 train:validation split and see how it performs:"
   ]
  },
  {
   "cell_type": "code",
   "execution_count": 15,
   "id": "18dbfc69-3697-47e6-b93b-7840b820fe07",
   "metadata": {},
   "outputs": [
    {
     "name": "stdout",
     "output_type": "stream",
     "text": [
      "Epoch 1/15\n",
      "  6/105 [>.............................] - ETA: 1s - loss: 403991296.0000 - mean_squared_error: 403991296.0000"
     ]
    },
    {
     "name": "stderr",
     "output_type": "stream",
     "text": [
      "/home/chris/.local/lib/python3.8/site-packages/tensorflow/python/data/ops/structured_function.py:265: UserWarning: Even though the `tf.config.experimental_run_functions_eagerly` option is set, this option does not apply to tf.data functions. To force eager execution of tf.data functions, please use `tf.data.experimental.enable_debug_mode()`.\n",
      "  warnings.warn(\n"
     ]
    },
    {
     "name": "stdout",
     "output_type": "stream",
     "text": [
      "105/105 [==============================] - 1s 13ms/step - loss: 358133504.0000 - mean_squared_error: 358133504.0000 - val_loss: 203384976.0000 - val_mean_squared_error: 203384976.0000\n",
      "Epoch 2/15\n",
      "105/105 [==============================] - 1s 13ms/step - loss: 126500992.0000 - mean_squared_error: 126500992.0000 - val_loss: 104939104.0000 - val_mean_squared_error: 104939104.0000\n",
      "Epoch 3/15\n",
      "105/105 [==============================] - 1s 13ms/step - loss: 106304792.0000 - mean_squared_error: 106304792.0000 - val_loss: 103480072.0000 - val_mean_squared_error: 103480072.0000\n",
      "Epoch 4/15\n",
      "105/105 [==============================] - 1s 13ms/step - loss: 105334984.0000 - mean_squared_error: 105334984.0000 - val_loss: 102911144.0000 - val_mean_squared_error: 102911144.0000\n",
      "Epoch 5/15\n",
      "105/105 [==============================] - 1s 13ms/step - loss: 104837904.0000 - mean_squared_error: 104837904.0000 - val_loss: 102508936.0000 - val_mean_squared_error: 102508936.0000\n",
      "Epoch 6/15\n",
      "105/105 [==============================] - 1s 13ms/step - loss: 104448048.0000 - mean_squared_error: 104448048.0000 - val_loss: 102195400.0000 - val_mean_squared_error: 102195400.0000\n",
      "Epoch 7/15\n",
      "105/105 [==============================] - 1s 13ms/step - loss: 104131232.0000 - mean_squared_error: 104131232.0000 - val_loss: 101945888.0000 - val_mean_squared_error: 101945888.0000\n",
      "Epoch 8/15\n",
      "105/105 [==============================] - 1s 13ms/step - loss: 103869712.0000 - mean_squared_error: 103869712.0000 - val_loss: 101689176.0000 - val_mean_squared_error: 101689176.0000\n",
      "Epoch 9/15\n",
      "105/105 [==============================] - 1s 13ms/step - loss: 103645360.0000 - mean_squared_error: 103645360.0000 - val_loss: 101483320.0000 - val_mean_squared_error: 101483320.0000\n",
      "Epoch 10/15\n",
      "105/105 [==============================] - 1s 13ms/step - loss: 103442944.0000 - mean_squared_error: 103442944.0000 - val_loss: 101329544.0000 - val_mean_squared_error: 101329544.0000\n",
      "Epoch 11/15\n",
      "105/105 [==============================] - 1s 13ms/step - loss: 103234336.0000 - mean_squared_error: 103234336.0000 - val_loss: 101114400.0000 - val_mean_squared_error: 101114400.0000\n",
      "Epoch 12/15\n",
      "105/105 [==============================] - 1s 13ms/step - loss: 103077920.0000 - mean_squared_error: 103077920.0000 - val_loss: 100991200.0000 - val_mean_squared_error: 100991200.0000\n",
      "Epoch 13/15\n",
      "105/105 [==============================] - 1s 13ms/step - loss: 102908792.0000 - mean_squared_error: 102908792.0000 - val_loss: 100842056.0000 - val_mean_squared_error: 100842056.0000\n",
      "Epoch 14/15\n",
      "105/105 [==============================] - 1s 13ms/step - loss: 102753568.0000 - mean_squared_error: 102753568.0000 - val_loss: 100689520.0000 - val_mean_squared_error: 100689520.0000\n",
      "Epoch 15/15\n",
      "105/105 [==============================] - 1s 13ms/step - loss: 102622672.0000 - mean_squared_error: 102622672.0000 - val_loss: 100618240.0000 - val_mean_squared_error: 100618240.0000\n"
     ]
    }
   ],
   "source": [
    "tf.config.run_functions_eagerly(True)\n",
    "\n",
    "history = dnn_model.fit(\n",
    "    {name:np.array(value) for name, value in X_train.items()},\n",
    "    np.array(y_train.values),\n",
    "    epochs=15,\n",
    "    batch_size=1000,\n",
    "    shuffle=True,\n",
    "    validation_split=0.2\n",
    ")\n",
    "\n",
    "# Get details that will be useful for plotting the loss curve.\n",
    "epochs = history.epoch\n",
    "hist = pd.DataFrame(history.history)\n",
    "mse = hist[\"mean_squared_error\"]"
   ]
  },
  {
   "cell_type": "code",
   "execution_count": 16,
   "id": "3c470139-5607-4261-b1fb-161438098c08",
   "metadata": {},
   "outputs": [
    {
     "data": {
      "image/png": "[encoded data removed]",
      "text/plain": [
       "<Figure size 432x288 with 1 Axes>"
      ]
     },
     "metadata": {
      "needs_background": "light"
     },
     "output_type": "display_data"
    }
   ],
   "source": [
    "plt.figure()\n",
    "plt.xlabel(\"Epoch\")\n",
    "plt.ylabel(\"Mean Squared Error\")\n",
    "\n",
    "plt.plot(epochs, mse, label=\"Training Loss\")\n",
    "plt.plot(epochs, history.history[\"val_mean_squared_error\"], label=\"Validation Loss\")\n",
    "\n",
    "# mse_training is a pandas Series, so convert it to a list first.\n",
    "merged_mse_lists = mse.tolist() + history.history[\"val_mean_squared_error\"]\n",
    "highest_loss = max(merged_mse_lists)\n",
    "lowest_loss = min(merged_mse_lists)\n",
    "top_of_y_axis = highest_loss * 1.03\n",
    "bottom_of_y_axis = lowest_loss * 0.97\n",
    "\n",
    "plt.ylim([bottom_of_y_axis, top_of_y_axis])\n",
    "plt.legend()\n",
    "plt.show()"
   ]
  },
  {
   "cell_type": "markdown",
   "id": "0a6229aa-5fd2-48c6-93eb-6cb192304bf0",
   "metadata": {},
   "source": [
    "Looks like it converged pretty decently! If we remember how MSE is calculated, taking the square root will give us the absolute average error. In this case, $\\sqrt{100618240}\\approx 10000$. So our predictions aren't awesome, but are only off by an average of about $10k up or down which definitely could be worse! Some more time spent feature engineering and fine tuning the model architecture would likely get us a model that's in a much closer ballpark when predictin vehicle price.\n",
    "\n",
    "Finally, let's see how we held up against the testing dataset:"
   ]
  },
  {
   "cell_type": "code",
   "execution_count": 19,
   "id": "57b676c8-2f6d-453a-8807-9cc5eb362838",
   "metadata": {},
   "outputs": [
    {
     "name": "stdout",
     "output_type": "stream",
     "text": [
      "\n",
      " Evaluate the new model against the test set:\n",
      "33/33 [==============================] - 0s 5ms/step - loss: 102548720.0000 - mean_squared_error: 102548720.0000\n"
     ]
    },
    {
     "data": {
      "text/plain": [
       "{'loss': 102548720.0, 'mean_squared_error': 102548720.0}"
      ]
     },
     "execution_count": 19,
     "metadata": {},
     "output_type": "execute_result"
    }
   ],
   "source": [
    "print(\"\\n Evaluate the new model against the test set:\")\n",
    "dnn_model.evaluate(\n",
    "    x={name:np.array(value) for name, value in X_test.items()},\n",
    "    y=np.array(y_test.values),\n",
    "    batch_size=1000,\n",
    "    return_dict=True)"
   ]
  }
 ],
 "metadata": {
  "kernelspec": {
   "display_name": "Python 3 (ipykernel)",
   "language": "python",
   "name": "python3"
  },
  "language_info": {
   "codemirror_mode": {
    "name": "ipython",
    "version": 3
   },
   "file_extension": ".py",
   "mimetype": "text/x-python",
   "name": "python",
   "nbconvert_exporter": "python",
   "pygments_lexer": "ipython3",
   "version": "3.8.10"
  }
 },
 "nbformat": 4,
 "nbformat_minor": 5
}
