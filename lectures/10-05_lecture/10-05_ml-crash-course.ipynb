{
 "cells": [
  {
   "cell_type": "markdown",
   "id": "e65fc406-2642-472e-ab8b-3dbdff681d1d",
   "metadata": {
    "slideshow": {
     "slide_type": "slide"
    },
    "tags": []
   },
   "source": [
    "# ML Crash Course\n",
    "\n",
    "## 05 October 2023"
   ]
  },
  {
   "cell_type": "markdown",
   "id": "53a938ea-4250-4bbd-aa68-3fd4ad0f15cd",
   "metadata": {
    "slideshow": {
     "slide_type": "slide"
    },
    "tags": []
   },
   "source": [
    "## What's this whole ML thing?\n",
    "\n",
    "![image.png](./assets/ml-tweet.png)"
   ]
  },
  {
   "cell_type": "markdown",
   "id": "8bfb5484-725f-4746-a66e-e68feeb90712",
   "metadata": {
    "slideshow": {
     "slide_type": "slide"
    },
    "tags": []
   },
   "source": [
    "## The spectrum of interpretability\n",
    "\n",
    "![spectrum of interpretability](./assets/interpretability.jpg)"
   ]
  },
  {
   "cell_type": "code",
   "execution_count": null,
   "id": "6a937a8d-130c-44d0-8470-5c0931582b73",
   "metadata": {
    "slideshow": {
     "slide_type": "notes"
    },
    "tags": []
   },
   "outputs": [],
   "source": [
    "Prior figure taken from https://wires.onlinelibrary.wiley.com/doi/full/10.1002/wics.1617"
   ]
  },
  {
   "cell_type": "markdown",
   "id": "7cbe3831-b193-488a-8186-60d6b34cfa31",
   "metadata": {
    "slideshow": {
     "slide_type": "slide"
    },
    "tags": []
   },
   "source": [
    "## Some terminology...\n",
    "\n",
    "### Labels\n",
    "\n",
    "> A **label** is the thing we're predicting. This could be what type of animal is in a picture, the price of a stock tomorrow, the transcribed content of an audio recording, etc"
   ]
  },
  {
   "cell_type": "markdown",
   "id": "4327f28b-eaea-4ad0-baa8-ecd30795cabe",
   "metadata": {
    "jp-MarkdownHeadingCollapsed": true,
    "slideshow": {
     "slide_type": "subslide"
    },
    "tags": []
   },
   "source": [
    "### Features\n",
    "\n",
    "> A **feature** is an input variable—one or multiple pieces of data that are fed into a model in order to generate a predicted label"
   ]
  },
  {
   "cell_type": "markdown",
   "id": "ebc823fb-1b56-4fb5-bade-151005349057",
   "metadata": {
    "jp-MarkdownHeadingCollapsed": true,
    "slideshow": {
     "slide_type": "subslide"
    },
    "tags": []
   },
   "source": [
    "### Model Training & Inference\n",
    "\n",
    "> Model training refers to the model \"learning\" to predict labels from features. Model inference refers to the trained model **creating new predicted labels** based on a set of features"
   ]
  },
  {
   "cell_type": "markdown",
   "id": "c7132e52-d5cf-4627-8a0d-454946dcabe2",
   "metadata": {
    "slideshow": {
     "slide_type": "slide"
    },
    "tags": []
   },
   "source": [
    "## Labelled vs unlabelled data\n",
    "\n",
    "![labelled vs unlabelled data](./assets/labelled-data.png)"
   ]
  },
  {
   "cell_type": "markdown",
   "id": "ae22238d-a1b9-4d10-88ff-10bdb5451039",
   "metadata": {
    "slideshow": {
     "slide_type": "notes"
    },
    "tags": []
   },
   "source": [
    "Data points excerpted from https://developers.google.com/machine-learning/crash-course/california-housing-data-description"
   ]
  },
  {
   "cell_type": "markdown",
   "id": "ec4b02ab-8861-4568-bee2-f421d875789e",
   "metadata": {
    "slideshow": {
     "slide_type": "slide"
    },
    "tags": []
   },
   "source": [
    "## Feature Engineering\n",
    "\n",
    "![engineered features](./assets/feature-engineering.png)"
   ]
  },
  {
   "cell_type": "markdown",
   "id": "7db0a391-8257-443c-88ac-c01e148d0807",
   "metadata": {
    "slideshow": {
     "slide_type": "slide"
    },
    "tags": []
   },
   "source": [
    "## Problem framing\n",
    "\n",
    "**Problem framing** is the process of analyzing a problem to isolate the individual elements that need to be addressed to solve it. Problem framing helps determine your project's technical feasibility and provides a clear set of goals and success criteria.\n",
    "\n",
    "At a high level, ML problem framing consists of two distinct steps:\n",
    "\n",
    "  1. Determining whether ML is the right approach for solving a problem.\n",
    "  2. Framing the problem in ML terms.\n"
   ]
  },
  {
   "cell_type": "markdown",
   "id": "19fce2ac-3698-48eb-aa89-396d7a3c947a",
   "metadata": {
    "slideshow": {
     "slide_type": "slide"
    },
    "tags": []
   },
   "source": [
    "## Understanding the problem\n",
    "\n",
    "  - State the goal for the product you are developing or refactoring.\n",
    "  - Determine whether the goal is best solved using, predictive ML, generative AI, or a non-ML solution.\n",
    "  - Verify you have the data required to train a model if you're using a predictive ML approach."
   ]
  },
  {
   "cell_type": "markdown",
   "id": "ee315e39-1983-4bd4-ad53-2f96a552443b",
   "metadata": {
    "slideshow": {
     "slide_type": "subslide"
    },
    "tags": []
   },
   "source": [
    "## Clearly stating goals\n",
    "\n",
    "Begin by stating your goal in non-ML terms. The goal is the answer to the question, \"What am I trying to accomplish?\"\n",
    "\n",
    "![ml goals](./assets/ml-goals.png)"
   ]
  },
  {
   "cell_type": "markdown",
   "id": "9a949ce7-23c0-49d7-986e-da0bc3db4286",
   "metadata": {
    "slideshow": {
     "slide_type": "slide"
    },
    "tags": []
   },
   "source": [
    "## Is it an ML use case?\n",
    "\n",
    "![ml categories](./assets/ml-categories.png)"
   ]
  },
  {
   "cell_type": "markdown",
   "id": "a5d47e02-347d-4bf7-bd71-83d79db5f3a9",
   "metadata": {
    "slideshow": {
     "slide_type": "slide"
    },
    "tags": []
   },
   "source": [
    "## Start simple, add complexity later\n",
    "\n",
    "If you don't have a non-ML solution implemented, try solving the problem manually using a heuristic. Consider then:\n",
    "\n",
    "  - **Quality.** How much better do you think an ML solution can be? If you think an ML solution might be only a small improvement, that might indicate the current solution is the best one.\n",
    "  - **Cost and maintenance.** How expensive is the ML solution in both the short- and long-term? In some cases, it costs significantly more in terms of compute resources and time to implement ML."
   ]
  },
  {
   "cell_type": "markdown",
   "id": "f2b1fb3c-7011-4bb5-acab-55402612caf1",
   "metadata": {
    "slideshow": {
     "slide_type": "slide"
    },
    "tags": []
   },
   "source": [
    "## Data and predictive modelling\n",
    "\n",
    "To make good predictions, you need data that contains features with predictive power. Your data should have the following characteristics:\n",
    "\n",
    "  - **Abundant.** The more relevant and useful examples in your dataset, the better your model will be.\n",
    "  - **Consistent and reliable.** Having data that's consistently and reliably collected will produce a better model.\n",
    "  - **Trusted.** Understand where your data will come from. Will the data be from trusted sources you control?\n",
    "  - **Available.** Make sure all inputs are available at prediction time in the correct format.\n",
    "  - **Correct.** If more than a small percentage of labels are incorrect, the model will produce poor predictions.\n",
    "  - **Representative.** The datasets should be as representative of the real world as possible."
   ]
  },
  {
   "cell_type": "markdown",
   "id": "e9c7adc5-0f64-4f1b-9e86-f373e1b1b10b",
   "metadata": {
    "slideshow": {
     "slide_type": "slide"
    },
    "tags": []
   },
   "source": [
    "## Predictive power\n",
    "\n",
    "For a model to make good predictions, the features in your dataset should have predictive power. The more correlated a feature is with a label, the more likely it is to predict it.\n",
    "\n",
    "Some features will have more predictive power than others. For example:\n",
    "  - in a weather dataset, features such as `cloud_coverage`, `temperature`, and `dew_point` would be better predictors of rain than `moon_phase` or `day_of_week`;\n",
    "  - for a video recommender system, you could hypothesize that features such as `video_description`, `length` and `views` might be good predictors for which videos a user would want to watch"
   ]
  },
  {
   "cell_type": "markdown",
   "id": "86b516a6-3729-4de9-9b38-923a624fbf58",
   "metadata": {
    "slideshow": {
     "slide_type": "slide"
    },
    "tags": []
   },
   "source": [
    "## Predictions vs. actions\n",
    "\n",
    "There's no value in predicting something if you can't turn the prediction into an action that helps users. That is, your product should take action from the model's output.\n",
    "\n",
    "For example, a model that predicts whether a user will find a video useful should feed into an app that recommends useful videos. A model that predicts whether it will rain should feed into a weather app."
   ]
  },
  {
   "cell_type": "markdown",
   "id": "a643a0e5-ca4b-4743-9acb-4b8ed41003ab",
   "metadata": {
    "slideshow": {
     "slide_type": "slide"
    },
    "tags": []
   },
   "source": [
    "## Defining goals in ML terms\n",
    "\n",
    "![ml-oriented goals](./assets/ml-goals2.png)"
   ]
  },
  {
   "cell_type": "markdown",
   "id": "f000c32f-b7b4-4206-b7f9-7622a72c60da",
   "metadata": {
    "slideshow": {
     "slide_type": "slide"
    },
    "tags": []
   },
   "source": [
    "## Identify the output\n",
    "\n",
    "![predictive outputs](./assets/predictive-outputs.png)"
   ]
  },
  {
   "cell_type": "markdown",
   "id": "539a75dc-3cf1-4d35-a06a-ba2e07607e9b",
   "metadata": {
    "slideshow": {
     "slide_type": "subslide"
    },
    "tags": []
   },
   "source": [
    "![generative outputs](./assets/generative-outputs.png)"
   ]
  },
  {
   "cell_type": "markdown",
   "id": "62419561-9141-4b60-b546-8a450c082707",
   "metadata": {
    "slideshow": {
     "slide_type": "slide"
    },
    "tags": []
   },
   "source": [
    "## Proxy labels\n",
    "\n",
    "**Proxy labels** substitute for labels that aren't in the dataset. Proxy labels are necessary when you can't directly measure what you want to predict.\n",
    "\n",
    "In the video app, we can't directly measure whether or not a user will find a video useful. It would be great if the dataset had a useful feature, and users marked all the videos that they found useful, but because the dataset doesn't, we'll need a proxy label that substitutes for usefulness."
   ]
  },
  {
   "cell_type": "markdown",
   "id": "7f88d75a-1320-4772-b618-f5ef66d1b69b",
   "metadata": {
    "slideshow": {
     "slide_type": "subslide"
    },
    "tags": []
   },
   "source": [
    "![proxy labels](./assets/proxy-labels.png)"
   ]
  },
  {
   "cell_type": "markdown",
   "id": "5e8406fd-0f1c-416f-91a0-f43a6a57c7af",
   "metadata": {
    "slideshow": {
     "slide_type": "slide"
    },
    "tags": []
   },
   "source": [
    "## Evaluation vs success metrics\n",
    "\n",
    "**Evaluation metrics** define what a model is optimizing for, like accuracy, precision, recall, or AUC. These are framed in terms of predictive correctness of the model.\n",
    "\n",
    "**Success metrics** define what you care about, like engagement or helping users take appropriate action, such as watching videos that they'll find useful. Success metrics differ from the model's evaluation metrics. These are framed in terms of outcomes resulting from the model's predictions."
   ]
  },
  {
   "cell_type": "markdown",
   "id": "2d282349-f766-4296-b7e7-15338026ee7a",
   "metadata": {
    "slideshow": {
     "slide_type": "slide"
    },
    "tags": []
   },
   "source": [
    "## When to stop optimizing\n",
    "\n",
    "When analyzing the model's performance, consider the following question: Would improving the model get you closer to your defined success criteria?\n",
    "\n",
    "  - A model might have great evaluation metrics, but not move you closer to your success criteria, indicating that even with a perfect model, you wouldn't meet the success criteria you defined\n",
    "  - A model might have poor evaluation metrics, but get you closer to your success criteria, indicating that improving the model would get you closer to success."
   ]
  },
  {
   "cell_type": "markdown",
   "id": "2a376e7a-3058-455d-a577-113b37a38e21",
   "metadata": {
    "slideshow": {
     "slide_type": "slide"
    },
    "tags": []
   },
   "source": [
    "## Monitoring\n",
    "\n",
    "Work doesn't stop after a model is trained. Once it's built, it needs to be tested and monitored\n",
    "\n",
    "  - **A/B testing.** If you are replacing an existing model, how can you run them both side-by-side to see if the new model outperforms the existing one?\n",
    "  - **Training/serving skew.** If inference features fall outside of the distribution of data your model was trained on, it will produce poor predictions.\n",
    "  - **Drift.** If the distribution of inference features shifts over time, your model may need to be retrained on an updated dataset."
   ]
  },
  {
   "cell_type": "markdown",
   "id": "6ab138ce-e1fa-488b-acef-b984ff27358a",
   "metadata": {
    "slideshow": {
     "slide_type": "slide"
    },
    "tags": []
   },
   "source": [
    "## Data prep & feature engineering\n",
    "\n",
    "![ml flowchart](./assets/ml-flowchart.png)"
   ]
  },
  {
   "cell_type": "markdown",
   "id": "19f09ada-ded0-407a-88df-145f84622ea8",
   "metadata": {
    "slideshow": {
     "slide_type": "slide"
    },
    "tags": []
   },
   "source": [
    "## How much data is enough?\n",
    "\n",
    "  - Your model should generally train on at least an order of magnitude more examples than trainable parameters.\n",
    "  - Simple models on large data sets generally beat fancy models on small data sets.\n",
    "  - This could mean a few hundred records for very simple models, or a few trillion records for something like Google Translate."
   ]
  },
  {
   "cell_type": "markdown",
   "id": "1ca91235-0e2d-4470-9d21-ff81b504c93d",
   "metadata": {
    "slideshow": {
     "slide_type": "slide"
    },
    "tags": []
   },
   "source": [
    "## Dataset quality\n",
    "\n",
    "Certain aspects of quality tend to correspond to better-performing models:\n",
    " - reliability\n",
    " - feature representation\n",
    " -  minimizing skew"
   ]
  },
  {
   "cell_type": "markdown",
   "id": "1766269f-3b65-4ed7-a39c-2ec8d6314f4b",
   "metadata": {
    "slideshow": {
     "slide_type": "subslide"
    },
    "tags": []
   },
   "source": [
    "**Reliability** refers to the degree to which you can trust your data. In measuring reliability, you must determine:\n",
    "\n",
    "  - How common are label errors? For example, if your data is labeled by humans, sometimes humans make mistakes.\n",
    "  - Are your features noisy? For example, GPS measurements fluctuate. Some noise is okay, and collecting more records can help smooth out the noise.\n",
    "  - Is the data properly filtered for your problem? For example, should your data set include search queries from bots? If you're building a spam-detection system, then likely the answer is yes, but if you're trying to improve search results for humans, then no."
   ]
  },
  {
   "cell_type": "markdown",
   "id": "e04394cd-d2df-475d-888f-13117440eb39",
   "metadata": {
    "slideshow": {
     "slide_type": "subslide"
    },
    "tags": []
   },
   "source": [
    "**Feature representation** refers to how raw data is mapped to inputs to a model. Some features may be mapped directly, others might be transformed or normalized.\n",
    "\n",
    "You'll want to consider the following questions:\n",
    "\n",
    "  - How is data shown to the model?\n",
    "  - Should you normalize numeric values?\n",
    "  - How should you handle outliers?\n"
   ]
  },
  {
   "cell_type": "markdown",
   "id": "e17c10db-d00e-4c3c-8353-ad5981244af4",
   "metadata": {
    "slideshow": {
     "slide_type": "slide"
    },
    "tags": []
   },
   "source": [
    "## Data transformation\n",
    "\n",
    "We transform features primarily for the following reasons:\n",
    "\n",
    "  1. Mandatory transformations for data compatibility. Examples include:\n",
    "    - Converting non-numeric features into numeric.\n",
    "    - Resizing inputs to a fixed size. Linear models and feed-forward neural networks have a fixed number of input nodes, so your input data must always have the same size.\n",
    "  2. Optional quality transformations that may help the model perform better. Examples include:\n",
    "    - Tokenization or lower-casing of text features.\n",
    "    - Normalized numeric features (most models perform better afterwards).\n",
    "    - Allowing linear models to introduce non-linearities into the feature space."
   ]
  },
  {
   "cell_type": "markdown",
   "id": "e19e4467-4856-4349-bba6-f44386608244",
   "metadata": {
    "slideshow": {
     "slide_type": "slide"
    },
    "tags": []
   },
   "source": [
    "## Numeric transformations\n",
    "\n",
    "You may need to apply two kinds of transformations to numeric data:\n",
    "\n",
    "  - **Normalizing** - transforming numeric data to the same scale as other numeric data.\n",
    "  - **Bucketing** - transforming numeric (usually continuous) data to categorical data."
   ]
  },
  {
   "cell_type": "markdown",
   "id": "ea8506b2-0109-430b-80e2-c77aecd9186a",
   "metadata": {
    "slideshow": {
     "slide_type": "slide"
    },
    "tags": []
   },
   "source": [
    "## Normalization\n",
    "\n",
    "Four common normalization techniques may be useful:\n",
    "\n",
    "  - scaling to a range\n",
    "  - clipping\n",
    "  - log scaling\n",
    "  - z-score\n",
    "  \n",
    "![normalization](./assets/normalization.svg)"
   ]
  },
  {
   "cell_type": "markdown",
   "id": "7daaaebc-15e0-4bfb-99ec-9cd3db30e74e",
   "metadata": {
    "slideshow": {
     "slide_type": "subslide"
    },
    "tags": []
   },
   "source": [
    "![normalization defined](./assets/normalization-maff.png)"
   ]
  },
  {
   "cell_type": "markdown",
   "id": "8fea7c3d-c504-4383-9289-141c7348f464",
   "metadata": {
    "slideshow": {
     "slide_type": "slide"
    },
    "tags": []
   },
   "source": [
    "## Bucketing\n",
    "\n",
    "![bucketing](./assets/bucketing.svg)"
   ]
  },
  {
   "cell_type": "markdown",
   "id": "68e32bfc-8ed6-4a8a-9eb6-f7cefedfb364",
   "metadata": {
    "slideshow": {
     "slide_type": "subslide"
    },
    "tags": []
   },
   "source": [
    "<img src=\"./assets/bucketizing-needed.svg\" width=\"80%\" height=\"80%\" />"
   ]
  },
  {
   "cell_type": "markdown",
   "id": "318d54fa-59bb-47d8-af26-c4826cce9451",
   "metadata": {
    "slideshow": {
     "slide_type": "subslide"
    },
    "tags": []
   },
   "source": [
    "## Quantile bucketing\n",
    "\n",
    "We can change the bucket cutoffs to ensure that an equal number of observations fall into each bucket. This is called **quantile bucketing**.\n",
    "\n",
    "<img src=\"./assets/quantile-bucketing.png\" width=\"50%\" height=\"50%\" />"
   ]
  },
  {
   "cell_type": "markdown",
   "id": "6ad4b39b-2e35-4675-ae29-0e4c4246952e",
   "metadata": {
    "slideshow": {
     "slide_type": "slide"
    },
    "tags": []
   },
   "source": [
    "## Categorical transformations\n",
    "\n",
    "![indexed features](./assets/indexed-features.png)"
   ]
  },
  {
   "cell_type": "markdown",
   "id": "954414e1-2d96-4c9f-8e43-e051280ab995",
   "metadata": {
    "slideshow": {
     "slide_type": "subslide"
    },
    "tags": []
   },
   "source": [
    "## Vocabulary\n",
    "\n",
    "In a vocabulary, each value represents a unique feature.\n",
    "\n",
    "<img src=\"./assets/feature-vectors.png\" width=\"80%\" height=\"80%\" />"
   ]
  },
  {
   "cell_type": "markdown",
   "id": "e92d29cb-df53-4bf1-affa-fdd329756d81",
   "metadata": {
    "slideshow": {
     "slide_type": "slide"
    },
    "tags": []
   },
   "source": [
    "## Embeddings\n",
    "\n",
    "An embedding is a categorical feature represented as a continuous-valued feature.\n",
    "\n",
    "<img src=\"./assets/embeddings.png\" width=\"80%\" height=\"80%\" />"
   ]
  }
 ],
 "metadata": {
  "kernelspec": {
   "display_name": "Python 3 (ipykernel)",
   "language": "python",
   "name": "python3"
  },
  "language_info": {
   "codemirror_mode": {
    "name": "ipython",
    "version": 3
   },
   "file_extension": ".py",
   "mimetype": "text/x-python",
   "name": "python",
   "nbconvert_exporter": "python",
   "pygments_lexer": "ipython3",
   "version": "3.8.10"
  }
 },
 "nbformat": 4,
 "nbformat_minor": 5
}
