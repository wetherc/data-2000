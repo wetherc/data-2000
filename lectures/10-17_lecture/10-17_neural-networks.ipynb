{
 "cells": [
  {
   "cell_type": "markdown",
   "id": "ac7af048-2802-4f79-86a8-283cad58ed11",
   "metadata": {
    "slideshow": {
     "slide_type": "notes"
    },
    "tags": []
   },
   "source": [
    "Adapted from https://developers.google.com/machine-learning/foundational-courses"
   ]
  },
  {
   "cell_type": "markdown",
   "id": "4c06a0c6-daf2-4ff9-80c8-74833586c09e",
   "metadata": {
    "slideshow": {
     "slide_type": "slide"
    },
    "tags": []
   },
   "source": [
    "# Introduction to Neural Networks\n",
    "\n",
    "## 17 October 2023"
   ]
  },
  {
   "cell_type": "markdown",
   "id": "d52fbf20-3196-4d9f-8ce1-603420e322e6",
   "metadata": {
    "slideshow": {
     "slide_type": "slide"
    },
    "tags": []
   },
   "source": [
    "# Let's review\n",
    "\n",
    "Consider the following two plots:\n",
    "\n",
    "![mse plots](assets/mse.png)\n",
    "\n",
    "Which of the two data sets shown above has the higher Mean Squared Error (MSE)? "
   ]
  },
  {
   "cell_type": "markdown",
   "id": "1f6796ef-9ce9-4f41-b774-99753c8e880a",
   "metadata": {
    "slideshow": {
     "slide_type": "slide"
    },
    "tags": []
   },
   "source": [
    "# Reducing Loss\n",
    "\n",
    "![iterative process for minimizing loss](assets/iterative-loss.svg)"
   ]
  },
  {
   "cell_type": "markdown",
   "id": "c29d58ff-58f7-4cfc-ae9f-26df92bbb982",
   "metadata": {
    "slideshow": {
     "slide_type": "subslide"
    },
    "tags": []
   },
   "source": [
    "- A Machine Learning model is trained by starting with an initial guess for the weights and bias and iteratively adjusting those guesses until learning the weights and bias with the lowest possible loss\n",
    "    - These values are commonly randomly initialized\n",
    "    - Can also be 0-initialized\n",
    "    - Other strategies exist, but we won't go too far into them\n",
    "- We iterate until overall loss stops changing, or changes extremely slowly\n",
    "    - When this happens, we say that the model has **converged**"
   ]
  },
  {
   "cell_type": "markdown",
   "id": "b5a742ac-0a1c-49ae-8b99-b3e44facc962",
   "metadata": {
    "slideshow": {
     "slide_type": "slide"
    },
    "tags": []
   },
   "source": [
    "# Gradients\n",
    "\n",
    "- The gradient of a function, denoted $\\nabla f$, is the vector of partial derivatives with respect to all of the independent variables\n",
    "    - $\\nabla f$ points in the direction of **greatest increase** of the function\n",
    "    - $-\\nabla f$ points in the direction of **greatest decrease** of the function\n",
    "- The number of dimensions in the vector is equal to the number of variables in the formula for $f$\n",
    "- A gradient is a vector, so it has both a **direction** and a **magnitude**"
   ]
  },
  {
   "cell_type": "markdown",
   "id": "f410486d-dce9-4269-a705-06113efd4434",
   "metadata": {
    "slideshow": {
     "slide_type": "slide"
    },
    "tags": []
   },
   "source": [
    "# Gradient Descent\n",
    "\n",
    "![](assets/convex.svg)"
   ]
  },
  {
   "cell_type": "markdown",
   "id": "f2813178-2da0-4f59-9eb2-00bee4a0ace1",
   "metadata": {
    "slideshow": {
     "slide_type": "subslide"
    },
    "tags": []
   },
   "source": [
    "![](assets/gradient-descent-start.svg)"
   ]
  },
  {
   "cell_type": "markdown",
   "id": "f7a0f2fe-8268-4d64-a3ec-54cdb86453b8",
   "metadata": {
    "slideshow": {
     "slide_type": "subslide"
    },
    "tags": []
   },
   "source": [
    "![](assets/gradient-descent-neg-grad.svg)"
   ]
  },
  {
   "cell_type": "markdown",
   "id": "49e5c085-8ed9-4623-9814-976554a30794",
   "metadata": {
    "slideshow": {
     "slide_type": "subslide"
    },
    "tags": []
   },
   "source": [
    "![](assets/gradient-descent-descent-step.svg)"
   ]
  },
  {
   "cell_type": "markdown",
   "id": "f47d9d3f-3edc-4505-bcb0-f7998a2e17da",
   "metadata": {
    "slideshow": {
     "slide_type": "subslide"
    },
    "tags": []
   },
   "source": [
    "![](assets/three-dimensional-plot.svg)"
   ]
  },
  {
   "cell_type": "markdown",
   "id": "c752b50f-0ac7-4666-9265-e924aae02ddd",
   "metadata": {
    "slideshow": {
     "slide_type": "slide"
    },
    "tags": []
   },
   "source": [
    "# Learning Rate\n",
    "\n",
    "- Gradient descent algorithms multiply the gradient by a scalar known as the **learning rate** (also called **step size**) to determine the next point\n",
    "- Learning rate is what's known as a model **hyperparameter**\n",
    "    - Hyperparameters refer broadly to ways to alter how a model trains, without affecting its formal structure\n",
    "- This is one of the most important hyperparameters to optimize since too small or too large of a value can prevent your model from converging"
   ]
  },
  {
   "cell_type": "markdown",
   "id": "2259f2d1-e91d-41f1-9c2d-51a8818e8be7",
   "metadata": {
    "slideshow": {
     "slide_type": "subslide"
    },
    "tags": []
   },
   "source": [
    "<img src=\"assets/lr-small.svg\" width=\"40%\" /> <img src=\"assets/lr-large.svg\" width=\"50%\" />"
   ]
  },
  {
   "cell_type": "markdown",
   "id": "02ddee1e-f028-4495-bcb1-d1b84cb0ad5b",
   "metadata": {
    "slideshow": {
     "slide_type": "slide"
    },
    "tags": []
   },
   "source": [
    "# Introduction to Neural Networks\n",
    "\n",
    "Recall the equation for a multiple regression from last week:\n",
    "\n",
    "$$\n",
    "y_{i} = \\beta_{0} + \\beta_{1}x_{i,1}+\\beta_{2}x_{i,2} + \\ldots + \\beta_{n}x_{i,n}\n",
    "$$\n",
    "\n",
    "Simplified to $Y=X\\beta+\\epsilon$"
   ]
  },
  {
   "cell_type": "markdown",
   "id": "d16fc1c2-ee6f-4df8-80b9-5bd767af19d2",
   "metadata": {
    "slideshow": {
     "slide_type": "subslide"
    },
    "tags": []
   },
   "source": [
    "A single neuron in a neural network is fundamentally similar:\n",
    "\n",
    "<img src=\"assets/single-neuron.png\" width=\"50%\" />"
   ]
  },
  {
   "cell_type": "markdown",
   "id": "716c5e1b-7fea-4328-bf3a-baca89375823",
   "metadata": {
    "slideshow": {
     "slide_type": "subslide"
    },
    "tags": []
   },
   "source": [
    "A **neural network** is then just a composition of these individual neurons:\n",
    "\n",
    "<img src=\"assets/network.svg\" width=\"50%\" />"
   ]
  },
  {
   "cell_type": "markdown",
   "id": "5c70393e-28a5-4361-990b-996c1cdee966",
   "metadata": {
    "slideshow": {
     "slide_type": "slide"
    },
    "tags": []
   },
   "source": [
    "# Starting with TensorFlow\n",
    "\n",
    "![tensorflow hierarchy](assets/tf-hierarchy.png)"
   ]
  },
  {
   "cell_type": "markdown",
   "id": "ac39c783-0c61-4c40-87aa-b0aaad57b020",
   "metadata": {
    "slideshow": {
     "slide_type": "slide"
    },
    "tags": []
   },
   "source": [
    "# A Regression in TensorFlow\n",
    "\n",
    "```python\n",
    "model = tf.keras.models.Sequential()\n",
    "model.add(\n",
    "    tf.keras.layers.Dense(\n",
    "        units=1, \n",
    "        input_shape=(1,)\n",
    "))\n",
    "model.compile(\n",
    "    optimizer=tf.keras.optimizers.experimental.RMSprop(learning_rate=my_learning_rate),\n",
    "    loss=\"mean_squared_error\",\n",
    "    metrics=[tf.keras.metrics.RootMeanSquaredError()]\n",
    ")\n",
    "```"
   ]
  },
  {
   "cell_type": "code",
   "execution_count": 4,
   "id": "f470e6f4-1db7-4c35-b37b-2baf759d1872",
   "metadata": {
    "slideshow": {
     "slide_type": "skip"
    },
    "tags": []
   },
   "outputs": [],
   "source": [
    "import numpy as np\n",
    "import pandas as pd\n",
    "import tensorflow as tf\n",
    "from matplotlib import pyplot as plt"
   ]
  },
  {
   "cell_type": "code",
   "execution_count": 2,
   "id": "c45fb550-1588-4735-b54c-0963eb757cdf",
   "metadata": {
    "slideshow": {
     "slide_type": "slide"
    },
    "tags": []
   },
   "outputs": [
    {
     "data": {
      "text/html": [
       "<div>\n",
       "<style scoped>\n",
       "    .dataframe tbody tr th:only-of-type {\n",
       "        vertical-align: middle;\n",
       "    }\n",
       "\n",
       "    .dataframe tbody tr th {\n",
       "        vertical-align: top;\n",
       "    }\n",
       "\n",
       "    .dataframe thead th {\n",
       "        text-align: right;\n",
       "    }\n",
       "</style>\n",
       "<table border=\"1\" class=\"dataframe\">\n",
       "  <thead>\n",
       "    <tr style=\"text-align: right;\">\n",
       "      <th></th>\n",
       "      <th>longitude</th>\n",
       "      <th>latitude</th>\n",
       "      <th>housing_median_age</th>\n",
       "      <th>total_rooms</th>\n",
       "      <th>total_bedrooms</th>\n",
       "      <th>population</th>\n",
       "      <th>households</th>\n",
       "      <th>median_income</th>\n",
       "      <th>median_house_value</th>\n",
       "    </tr>\n",
       "  </thead>\n",
       "  <tbody>\n",
       "    <tr>\n",
       "      <th>0</th>\n",
       "      <td>-114.31</td>\n",
       "      <td>34.19</td>\n",
       "      <td>15.0</td>\n",
       "      <td>5612.0</td>\n",
       "      <td>1283.0</td>\n",
       "      <td>1015.0</td>\n",
       "      <td>472.0</td>\n",
       "      <td>1.4936</td>\n",
       "      <td>66.9</td>\n",
       "    </tr>\n",
       "    <tr>\n",
       "      <th>1</th>\n",
       "      <td>-114.47</td>\n",
       "      <td>34.40</td>\n",
       "      <td>19.0</td>\n",
       "      <td>7650.0</td>\n",
       "      <td>1901.0</td>\n",
       "      <td>1129.0</td>\n",
       "      <td>463.0</td>\n",
       "      <td>1.8200</td>\n",
       "      <td>80.1</td>\n",
       "    </tr>\n",
       "    <tr>\n",
       "      <th>2</th>\n",
       "      <td>-114.56</td>\n",
       "      <td>33.69</td>\n",
       "      <td>17.0</td>\n",
       "      <td>720.0</td>\n",
       "      <td>174.0</td>\n",
       "      <td>333.0</td>\n",
       "      <td>117.0</td>\n",
       "      <td>1.6509</td>\n",
       "      <td>85.7</td>\n",
       "    </tr>\n",
       "    <tr>\n",
       "      <th>3</th>\n",
       "      <td>-114.57</td>\n",
       "      <td>33.64</td>\n",
       "      <td>14.0</td>\n",
       "      <td>1501.0</td>\n",
       "      <td>337.0</td>\n",
       "      <td>515.0</td>\n",
       "      <td>226.0</td>\n",
       "      <td>3.1917</td>\n",
       "      <td>73.4</td>\n",
       "    </tr>\n",
       "    <tr>\n",
       "      <th>4</th>\n",
       "      <td>-114.57</td>\n",
       "      <td>33.57</td>\n",
       "      <td>20.0</td>\n",
       "      <td>1454.0</td>\n",
       "      <td>326.0</td>\n",
       "      <td>624.0</td>\n",
       "      <td>262.0</td>\n",
       "      <td>1.9250</td>\n",
       "      <td>65.5</td>\n",
       "    </tr>\n",
       "  </tbody>\n",
       "</table>\n",
       "</div>"
      ],
      "text/plain": [
       "   longitude  latitude  housing_median_age  total_rooms  total_bedrooms  \\\n",
       "0    -114.31     34.19                15.0       5612.0          1283.0   \n",
       "1    -114.47     34.40                19.0       7650.0          1901.0   \n",
       "2    -114.56     33.69                17.0        720.0           174.0   \n",
       "3    -114.57     33.64                14.0       1501.0           337.0   \n",
       "4    -114.57     33.57                20.0       1454.0           326.0   \n",
       "\n",
       "   population  households  median_income  median_house_value  \n",
       "0      1015.0       472.0         1.4936                66.9  \n",
       "1      1129.0       463.0         1.8200                80.1  \n",
       "2       333.0       117.0         1.6509                85.7  \n",
       "3       515.0       226.0         3.1917                73.4  \n",
       "4       624.0       262.0         1.9250                65.5  "
      ]
     },
     "execution_count": 2,
     "metadata": {},
     "output_type": "execute_result"
    }
   ],
   "source": [
    "training_df = pd.read_csv(\"https://download.mlcc.google.com/mledu-datasets/california_housing_train.csv\")\n",
    "training_df[\"median_house_value\"] /= 1000.0\n",
    "training_df.head()"
   ]
  },
  {
   "cell_type": "code",
   "execution_count": 3,
   "id": "b1dd0b8c-14a8-457c-aefa-52534b6f2337",
   "metadata": {
    "slideshow": {
     "slide_type": "skip"
    },
    "tags": []
   },
   "outputs": [],
   "source": [
    "def build_model(my_learning_rate):\n",
    "    \"\"\"Create and compile a simple linear regression model.\"\"\"\n",
    "    # Most simple tf.keras models are sequential.\n",
    "    model = tf.keras.models.Sequential()\n",
    "\n",
    "    # Describe the topography of the model.\n",
    "    # The topography of a simple linear regression model\n",
    "    # is a single node in a single layer.\n",
    "    model.add(\n",
    "        tf.keras.layers.Dense(\n",
    "            units=1,\n",
    "            input_shape=(1,)\n",
    "        )\n",
    "    )\n",
    "\n",
    "    # Compile the model topography into code that TensorFlow can efficiently\n",
    "    # execute. Configure training to minimize the model's mean squared error. \n",
    "    model.compile(\n",
    "        optimizer=tf.keras.optimizers.experimental.RMSprop(learning_rate=my_learning_rate),\n",
    "        loss=\"mean_squared_error\",\n",
    "        metrics=[tf.keras.metrics.RootMeanSquaredError()])\n",
    "\n",
    "    return model        \n",
    "\n",
    "\n",
    "def train_model(model, df, feature, label, epochs, batch_size):\n",
    "    \"\"\"Train the model by feeding it data.\"\"\"\n",
    "\n",
    "    # Feed the model the feature and the label.\n",
    "    # The model will train for the specified number of epochs. \n",
    "    history = model.fit(\n",
    "        x=df[feature],\n",
    "        y=df[label],\n",
    "        batch_size=batch_size,\n",
    "        epochs=epochs)\n",
    "\n",
    "    # Gather the trained model's weight and bias.\n",
    "    trained_weight = model.get_weights()[0]\n",
    "    trained_bias = model.get_weights()[1]\n",
    "\n",
    "    # The list of epochs is stored separately from the rest of history.\n",
    "    epochs = history.epoch\n",
    "\n",
    "    # Isolate the error for each epoch.\n",
    "    hist = pd.DataFrame(history.history)\n",
    "\n",
    "    # To track the progression of training, we're going to take a snapshot\n",
    "    # of the model's root mean squared error at each epoch. \n",
    "    rmse = hist[\"root_mean_squared_error\"]\n",
    "\n",
    "    return trained_weight, trained_bias, epochs, rmse"
   ]
  },
  {
   "cell_type": "code",
   "execution_count": 17,
   "id": "8fd19950-e195-4d54-b768-6fd335da2cfc",
   "metadata": {
    "slideshow": {
     "slide_type": "skip"
    },
    "tags": []
   },
   "outputs": [],
   "source": [
    "#@title Define the plotting functions\n",
    "def plot_the_model(trained_weight, trained_bias, feature, label):\n",
    "    \"\"\"Plot the trained model against 200 random training examples.\"\"\"\n",
    "\n",
    "    # Label the axes.\n",
    "    plt.xlabel(feature)\n",
    "    plt.ylabel(label)\n",
    "\n",
    "    # Create a scatter plot from 200 random points of the dataset.\n",
    "    random_examples = training_df.sample(n=200)\n",
    "    plt.scatter(random_examples[feature], random_examples[label])\n",
    "\n",
    "    # Create a red line representing the model. The red line starts\n",
    "    # at coordinates (x0, y0) and ends at coordinates (x1, y1).\n",
    "    x0 = 0\n",
    "    y0 = trained_bias\n",
    "    x1 = random_examples[feature].max()\n",
    "    y1 = trained_bias + (trained_weight * x1)\n",
    "    try:\n",
    "        plt.plot(np.asanyarray([x0, x1]), np.asanyarray([y0, y1]), c='r')\n",
    "    except ValueError:\n",
    "        pass\n",
    "\n",
    "    # Render the scatter plot and the red line.\n",
    "    plt.show()\n",
    "\n",
    "\n",
    "def plot_the_loss_curve(epochs, rmse):\n",
    "    \"\"\"Plot a curve of loss vs. epoch.\"\"\"\n",
    "\n",
    "    plt.figure()\n",
    "    plt.xlabel(\"Epoch\")\n",
    "    plt.ylabel(\"Root Mean Squared Error\")\n",
    "\n",
    "    plt.plot(epochs, rmse, label=\"Loss\")\n",
    "    plt.legend()\n",
    "    plt.ylim([rmse.min()*0.97, rmse.max()])\n",
    "    plt.show()  "
   ]
  },
  {
   "cell_type": "code",
   "execution_count": 10,
   "id": "4af3f819-a543-4c14-b7c8-2c15c20e0fa1",
   "metadata": {
    "scrolled": true,
    "slideshow": {
     "slide_type": "slide"
    },
    "tags": []
   },
   "outputs": [
    {
     "name": "stdout",
     "output_type": "stream",
     "text": [
      "Epoch 1/30\n",
      "567/567 [==============================] - 0s 510us/step - loss: 1481041.8750 - root_mean_squared_error: 1216.9806\n",
      "Epoch 2/30\n",
      "567/567 [==============================] - 0s 510us/step - loss: 27757.3516 - root_mean_squared_error: 166.6054\n",
      "Epoch 3/30\n",
      "567/567 [==============================] - 0s 494us/step - loss: 26894.2812 - root_mean_squared_error: 163.9948\n",
      "Epoch 4/30\n",
      "567/567 [==============================] - 0s 642us/step - loss: 26365.5410 - root_mean_squared_error: 162.3747\n",
      "Epoch 5/30\n",
      "567/567 [==============================] - 0s 497us/step - loss: 25656.1582 - root_mean_squared_error: 160.1754\n",
      "Epoch 6/30\n",
      "567/567 [==============================] - 0s 501us/step - loss: 24830.4668 - root_mean_squared_error: 157.5769\n",
      "Epoch 7/30\n",
      "567/567 [==============================] - 0s 499us/step - loss: 24258.8047 - root_mean_squared_error: 155.7524\n",
      "Epoch 8/30\n",
      "567/567 [==============================] - 0s 494us/step - loss: 23659.9746 - root_mean_squared_error: 153.8180\n",
      "Epoch 9/30\n",
      "567/567 [==============================] - 0s 491us/step - loss: 23091.3047 - root_mean_squared_error: 151.9582\n",
      "Epoch 10/30\n",
      "567/567 [==============================] - 0s 512us/step - loss: 22489.7344 - root_mean_squared_error: 149.9658\n",
      "Epoch 11/30\n",
      "567/567 [==============================] - 0s 501us/step - loss: 21736.1523 - root_mean_squared_error: 147.4319\n",
      "Epoch 12/30\n",
      "567/567 [==============================] - 0s 501us/step - loss: 21311.4082 - root_mean_squared_error: 145.9843\n",
      "Epoch 13/30\n",
      "567/567 [==============================] - 0s 492us/step - loss: 20948.3164 - root_mean_squared_error: 144.7353\n",
      "Epoch 14/30\n",
      "567/567 [==============================] - 0s 499us/step - loss: 20376.4219 - root_mean_squared_error: 142.7460\n",
      "Epoch 15/30\n",
      "567/567 [==============================] - 0s 496us/step - loss: 19966.3652 - root_mean_squared_error: 141.3024\n",
      "Epoch 16/30\n",
      "567/567 [==============================] - 0s 498us/step - loss: 19523.7969 - root_mean_squared_error: 139.7276\n",
      "Epoch 17/30\n",
      "567/567 [==============================] - 0s 508us/step - loss: 18986.2793 - root_mean_squared_error: 137.7907\n",
      "Epoch 18/30\n",
      "567/567 [==============================] - 0s 492us/step - loss: 18707.4590 - root_mean_squared_error: 136.7752\n",
      "Epoch 19/30\n",
      "567/567 [==============================] - 0s 492us/step - loss: 18232.0254 - root_mean_squared_error: 135.0260\n",
      "Epoch 20/30\n",
      "567/567 [==============================] - 0s 496us/step - loss: 17836.4551 - root_mean_squared_error: 133.5532\n",
      "Epoch 21/30\n",
      "567/567 [==============================] - 0s 485us/step - loss: 17435.9648 - root_mean_squared_error: 132.0453\n",
      "Epoch 22/30\n",
      "567/567 [==============================] - 0s 507us/step - loss: 17206.7148 - root_mean_squared_error: 131.1744\n",
      "Epoch 23/30\n",
      "567/567 [==============================] - 0s 491us/step - loss: 16809.9863 - root_mean_squared_error: 129.6533\n",
      "Epoch 24/30\n",
      "567/567 [==============================] - 0s 500us/step - loss: 16653.1914 - root_mean_squared_error: 129.0472\n",
      "Epoch 25/30\n",
      "567/567 [==============================] - 0s 524us/step - loss: 16144.9805 - root_mean_squared_error: 127.0629\n",
      "Epoch 26/30\n",
      "567/567 [==============================] - 0s 506us/step - loss: 16159.8379 - root_mean_squared_error: 127.1214\n",
      "Epoch 27/30\n",
      "567/567 [==============================] - 0s 501us/step - loss: 15769.4541 - root_mean_squared_error: 125.5765\n",
      "Epoch 28/30\n",
      "567/567 [==============================] - 0s 480us/step - loss: 15590.1328 - root_mean_squared_error: 124.8605\n",
      "Epoch 29/30\n",
      "567/567 [==============================] - 0s 496us/step - loss: 15455.0586 - root_mean_squared_error: 124.3184\n",
      "Epoch 30/30\n",
      "567/567 [==============================] - 0s 492us/step - loss: 15262.9229 - root_mean_squared_error: 123.5432\n"
     ]
    }
   ],
   "source": [
    "# The following variables are the hyperparameters.\n",
    "learning_rate = 0.01\n",
    "epochs = 30\n",
    "batch_size = 30\n",
    "\n",
    "my_feature = \"total_rooms\"\n",
    "my_label=\"median_house_value\"\n",
    "my_model = None\n",
    "\n",
    "# Invoke the functions.\n",
    "my_model = build_model(learning_rate)\n",
    "weight, bias, epochs, rmse = train_model(\n",
    "    my_model, training_df, \n",
    "    my_feature, my_label,\n",
    "    epochs, batch_size)"
   ]
  },
  {
   "cell_type": "code",
   "execution_count": 18,
   "id": "e2ec3754-3012-4620-b1e8-bd4a416f3080",
   "metadata": {
    "slideshow": {
     "slide_type": "slide"
    },
    "tags": []
   },
   "outputs": [
    {
     "data": {
      "image/png": "[encoded data removed]",
      "text/plain": [
       "<Figure size 432x288 with 1 Axes>"
      ]
     },
     "metadata": {
      "needs_background": "light"
     },
     "output_type": "display_data"
    }
   ],
   "source": [
    "plot_the_model(weight, bias, my_feature, my_label)"
   ]
  },
  {
   "cell_type": "code",
   "execution_count": 26,
   "id": "7899497d-afaf-4df2-91e5-4b0d656aed42",
   "metadata": {
    "slideshow": {
     "slide_type": "subslide"
    },
    "tags": []
   },
   "outputs": [
    {
     "data": {
      "image/png": "[encoded data removed]",
      "text/plain": [
       "<Figure size 432x288 with 1 Axes>"
      ]
     },
     "metadata": {
      "needs_background": "light"
     },
     "output_type": "display_data"
    },
    {
     "name": "stdout",
     "output_type": "stream",
     "text": [
      "\n",
      "The learned weight for your model is 0.0063\n",
      "The learned bias for your model is 132.3164\n",
      "\n"
     ]
    }
   ],
   "source": [
    "plot_the_loss_curve(epochs, rmse)\n",
    "print(\"\\nThe learned weight for your model is %.4f\" % weight)\n",
    "print(\"The learned bias for your model is %.4f\\n\" % bias )"
   ]
  },
  {
   "cell_type": "code",
   "execution_count": 23,
   "id": "f8eddc02-a121-4dfe-b449-4bee11f56c42",
   "metadata": {
    "slideshow": {
     "slide_type": "skip"
    },
    "tags": []
   },
   "outputs": [],
   "source": [
    "def predict_house_values(n, feature, label):\n",
    "    \"\"\"Predict house values based on a feature.\"\"\"\n",
    "\n",
    "    batch = training_df[feature][10000:10000 + n]\n",
    "    predicted_values = my_model.predict_on_batch(x=batch)\n",
    "\n",
    "    print(\"feature   label          predicted\")\n",
    "    print(\"  value   value          value\")\n",
    "    print(\"          in thousand$   in thousand$\")\n",
    "    print(\"--------------------------------------\")\n",
    "    for i in range(n):\n",
    "        print(\n",
    "            \"%5.0f %6.0f %15.0f\" % (\n",
    "                training_df[feature][10000 + i],\n",
    "                training_df[label][10000 + i],\n",
    "                predicted_values[i][0]\n",
    "            )\n",
    "        )"
   ]
  },
  {
   "cell_type": "code",
   "execution_count": 24,
   "id": "ea6bc580-99d3-4801-98b1-ebaf25ff65a8",
   "metadata": {
    "slideshow": {
     "slide_type": "slide"
    },
    "tags": []
   },
   "outputs": [
    {
     "name": "stdout",
     "output_type": "stream",
     "text": [
      "feature   label          predicted\n",
      "  value   value          value\n",
      "          in thousand$   in thousand$\n",
      "--------------------------------------\n",
      " 1960     53             145\n",
      " 3400     92             154\n",
      " 3677     69             155\n",
      " 2202     62             146\n",
      " 2403     80             147\n",
      " 5652    295             168\n",
      " 3318    500             153\n",
      " 2552    342             148\n",
      " 1364    118             141\n",
      " 3468    128             154\n"
     ]
    }
   ],
   "source": [
    "predict_house_values(10, my_feature, my_label)"
   ]
  }
 ],
 "metadata": {
  "kernelspec": {
   "display_name": "Python 3 (ipykernel)",
   "language": "python",
   "name": "python3"
  },
  "language_info": {
   "codemirror_mode": {
    "name": "ipython",
    "version": 3
   },
   "file_extension": ".py",
   "mimetype": "text/x-python",
   "name": "python",
   "nbconvert_exporter": "python",
   "pygments_lexer": "ipython3",
   "version": "3.8.10"
  }
 },
 "nbformat": 4,
 "nbformat_minor": 5
}
